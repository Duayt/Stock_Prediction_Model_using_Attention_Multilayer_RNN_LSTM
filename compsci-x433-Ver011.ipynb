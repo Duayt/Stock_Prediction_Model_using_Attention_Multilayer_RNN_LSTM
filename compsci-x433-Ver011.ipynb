{
 "cells": [
  {
   "cell_type": "markdown",
   "metadata": {},
   "source": [
    "Titile: Evaluation of Stock Prediction Models using Fully Connected Feed Forward Neural Network and Adaptive Variants of Recursive Neural Networks\n",
    "\n",
    "Author: Soumyendu Sarkar : http://www.linkedin.com/in/soumyendusarkar\n",
    "\n",
    "Source Code: https://github.com/shoumo95\n",
    "\n",
    "Data Source: https://quantquote.com/historical-stock-data"
   ]
  },
  {
   "cell_type": "markdown",
   "metadata": {},
   "source": [
    "COMPSCI X433.3 Project:\n",
    "\n",
    "Soumyendu Sarkar\n",
    " \n",
    "Project Objective\n",
    "Evaluate models to Predict future market behavior of equities from historic data using Machine Learning techniques.\n",
    " \n",
    "Methods :\n",
    "\n",
    "Multiple models will be attempted for this project, both requiring the use of Python and Machine Learning Packages and Frameworks.\n",
    "\n",
    "[Soumyendu] Normalize data for zero mean and unit variance with logarithmic scaling of returns and data frame construction for optimized Neural Network training with back propagation.\n",
    "\n",
    "·       Develop Python Code to Implement, Train and Test Models for Prediction: \n",
    "\n",
    "[Soumyendu]   Recurrent Neural Network implementation using Tensorflow framework APIs in Python and a Baseline model of 3 Layer Feed Forward Neural Network for comparison.\n",
    "\n",
    "·       Evaluate Model Performance \n",
    "\n",
    "[Soumyendu]\n"
   ]
  },
  {
   "cell_type": "markdown",
   "metadata": {},
   "source": [
    "Data Preparation\n",
    "- Data Source research and identification (free part of QuantQuote database )\n",
    "- Importing decade long stock data of the S&P 500 companies\n",
    "- Cleaning and Normalizing data with zero mean, unit variance and logarithmic scaling for normal distribution\n",
    "- Processing and Separating data into Input Data (the intra-day price fluctuations) and Expected Output Data (discrete categorized classification values for price gain over consecutive days )\n",
    "- Forming Data Frames for Training and Testing for Neural Network\n",
    "\n",
    "Code for Two Distinct Neural Networks for Comparison\n",
    "- Code for Fully Connected Feed Forward Neural Network classifier using low level Tensorflow Framework API\n",
    "- Code for Attention Adaptation of Multilayer (2x) Recurrent Neural Networks (100x NN lookback) with LSTM / GRU Memory Optimized Cells using low level Tensorflow Framework API. This follows latest publication and enhancement in Recurrent Neural Networks.\n",
    "- Accelerated Linear Algebra optimization for faster code execution with XLA JIT (Just in time compilation) directives\n",
    "- Both these codes uses low level Tensorflow API to facilitate usage of advanced Tensorflow framework features with embedding and model structure refinements\n",
    "\n",
    "Model Visualization and Tensorboard Embeddings\n",
    "- Tensorboard code embedding for Graphical Model Visualization and Data visualization \n",
    "\n",
    "Analysis and Result Visualization\n",
    "- Diagnostics and Evaluation with Graphical presentation of the effectiveness of the Model\n",
    "- Confusion Matrix and Accuracy, Precision, Sensitivity and Specificity\n",
    "- The Graph demonstrates the effectiveness of both the Neural Networks in making daily trading decisions, scored against random buys and sells\n",
    "- Several measures of effectiveness in decision making\n"
   ]
  },
  {
   "cell_type": "markdown",
   "metadata": {},
   "source": [
    "Data Source :\n",
    "\n",
    "QuantQuote Free Historical Stock Data\n",
    "This collection of daily resolution data goes back to 1998 for all symbols currently active in the S&P500. It is updated quarterly, the last update was 07/31/2013. \n",
    "\n",
    "QuantQuote Free Daily Data has several advantages not found elsewhere:\n",
    "\n",
    "Full split/dividend adjustments for OHLCV\n",
    "Single zip file makes downloading ~500 symbols a one step process\n",
    "QuantQuote data quality means errors in many free sources (such as Yahoo) are not present.\n",
    "For format information, please consult our minute resolution data documentation.\n",
    "\n",
    "Reference :\n",
    "https://quantquote.com/historical-stock-data\n",
    "\n",
    "\n",
    "Data Preparation\n",
    "\n",
    "1. Calculate the log return between two points. Assumption is returns are log-normally distributed. \n",
    "2. Using zscore  to map a pandas series to make it have mean 0 and variance 1, to normalize the data.\n"
   ]
  },
  {
   "cell_type": "code",
   "execution_count": 1,
   "metadata": {
    "scrolled": false
   },
   "outputs": [
    {
     "name": "stdout",
     "output_type": "stream",
     "text": [
      "Populating the interactive namespace from numpy and matplotlib\n"
     ]
    }
   ],
   "source": [
    "import pandas as pd\n",
    "import os\n",
    "%pylab inline"
   ]
  },
  {
   "cell_type": "code",
   "execution_count": 2,
   "metadata": {
    "scrolled": false
   },
   "outputs": [
    {
     "name": "stdout",
     "output_type": "stream",
     "text": [
      "table_qep.csv\n"
     ]
    }
   ],
   "source": [
    "print(os.listdir('./daily')[0])"
   ]
  },
  {
   "cell_type": "code",
   "execution_count": 3,
   "metadata": {
    "collapsed": true,
    "scrolled": false
   },
   "outputs": [],
   "source": [
    "datapath = './daily'\n",
    "filepath = os.path.join(datapath,os.listdir('./daily')[0])"
   ]
  },
  {
   "cell_type": "code",
   "execution_count": 4,
   "metadata": {
    "scrolled": false
   },
   "outputs": [
    {
     "name": "stdout",
     "output_type": "stream",
     "text": [
      "./daily/table_qep.csv\n"
     ]
    }
   ],
   "source": [
    "print(filepath)"
   ]
  },
  {
   "cell_type": "code",
   "execution_count": 5,
   "metadata": {
    "scrolled": false
   },
   "outputs": [
    {
     "name": "stdout",
     "output_type": "stream",
     "text": [
      "./daily/table_qep.csv qep\n"
     ]
    }
   ],
   "source": [
    "import re\n",
    "ticker_regex = re.compile('.+_(?P<ticker>.+)\\.csv')\n",
    "get_ticker =lambda x :ticker_regex.match(x).groupdict()['ticker']\n",
    "print(filepath,get_ticker(filepath))"
   ]
  },
  {
   "cell_type": "code",
   "execution_count": 6,
   "metadata": {
    "collapsed": true,
    "scrolled": false
   },
   "outputs": [],
   "source": [
    "ret = lambda x,y: log(y/x) #Log return \n",
    "zscore = lambda x:(x -x.mean())/x.std() # zscore"
   ]
  },
  {
   "cell_type": "code",
   "execution_count": 7,
   "metadata": {
    "collapsed": true,
    "scrolled": false
   },
   "outputs": [],
   "source": [
    "D = pd.read_csv(filepath,header=None,names=['UNK','o','h','l','c','v']) #Load the dataframe with headers"
   ]
  },
  {
   "cell_type": "code",
   "execution_count": 8,
   "metadata": {
    "scrolled": false
   },
   "outputs": [
    {
     "data": {
      "text/html": [
       "<div>\n",
       "<table border=\"1\" class=\"dataframe\">\n",
       "  <thead>\n",
       "    <tr style=\"text-align: right;\">\n",
       "      <th></th>\n",
       "      <th>UNK</th>\n",
       "      <th>o</th>\n",
       "      <th>h</th>\n",
       "      <th>l</th>\n",
       "      <th>c</th>\n",
       "      <th>v</th>\n",
       "    </tr>\n",
       "  </thead>\n",
       "  <tbody>\n",
       "    <tr>\n",
       "      <th>20100701</th>\n",
       "      <td>0</td>\n",
       "      <td>30.2711</td>\n",
       "      <td>30.7971</td>\n",
       "      <td>29.0305</td>\n",
       "      <td>29.1397</td>\n",
       "      <td>2407928.706</td>\n",
       "    </tr>\n",
       "    <tr>\n",
       "      <th>20100702</th>\n",
       "      <td>0</td>\n",
       "      <td>29.2786</td>\n",
       "      <td>29.7352</td>\n",
       "      <td>28.6633</td>\n",
       "      <td>28.8320</td>\n",
       "      <td>2997759.606</td>\n",
       "    </tr>\n",
       "    <tr>\n",
       "      <th>20100706</th>\n",
       "      <td>0</td>\n",
       "      <td>29.3878</td>\n",
       "      <td>29.3878</td>\n",
       "      <td>27.7998</td>\n",
       "      <td>27.9090</td>\n",
       "      <td>2136222.897</td>\n",
       "    </tr>\n",
       "    <tr>\n",
       "      <th>20100707</th>\n",
       "      <td>0</td>\n",
       "      <td>28.2960</td>\n",
       "      <td>29.2687</td>\n",
       "      <td>27.6906</td>\n",
       "      <td>29.1198</td>\n",
       "      <td>2069802.765</td>\n",
       "    </tr>\n",
       "    <tr>\n",
       "      <th>20100708</th>\n",
       "      <td>0</td>\n",
       "      <td>29.7252</td>\n",
       "      <td>30.8567</td>\n",
       "      <td>29.6855</td>\n",
       "      <td>30.0031</td>\n",
       "      <td>1988857.584</td>\n",
       "    </tr>\n",
       "  </tbody>\n",
       "</table>\n",
       "</div>"
      ],
      "text/plain": [
       "          UNK        o        h        l        c            v\n",
       "20100701    0  30.2711  30.7971  29.0305  29.1397  2407928.706\n",
       "20100702    0  29.2786  29.7352  28.6633  28.8320  2997759.606\n",
       "20100706    0  29.3878  29.3878  27.7998  27.9090  2136222.897\n",
       "20100707    0  28.2960  29.2687  27.6906  29.1198  2069802.765\n",
       "20100708    0  29.7252  30.8567  29.6855  30.0031  1988857.584"
      ]
     },
     "execution_count": 8,
     "metadata": {},
     "output_type": "execute_result"
    }
   ],
   "source": [
    "D.head() #Lets peack at it"
   ]
  },
  {
   "cell_type": "markdown",
   "metadata": {},
   "source": [
    "The processed data will be the fluctation of prices. The prices are normalized to log return of the various prices followed by zscore. \n",
    "Ticker will be extraccted from the file and added to the column."
   ]
  },
  {
   "cell_type": "code",
   "execution_count": 9,
   "metadata": {
    "scrolled": false
   },
   "outputs": [
    {
     "name": "stdout",
     "output_type": "stream",
     "text": [
      "<class 'pandas.core.frame.DataFrame'>\n"
     ]
    }
   ],
   "source": [
    "def make_inputs(filepath):\n",
    "    D = pd.read_csv(filepath,header=None,names=['UNK','o','h','l','c','v']) #Load the dataframe with headers\n",
    "    D.index = pd.to_datetime(D.index,format='%Y%m%d') # Set the indix to a datetime\n",
    "    Res = pd.DataFrame()\n",
    "    ticker = get_ticker(filepath)\n",
    "\n",
    "    Res['c_2_o'] = zscore(ret(D.o,D.c))\n",
    "    Res['h_2_o'] = zscore(ret(D.o,D.h))\n",
    "    Res['l_2_o'] = zscore(ret(D.o,D.l))\n",
    "    Res['c_2_h'] = zscore(ret(D.h,D.c))\n",
    "    Res['h_2_l'] = zscore(ret(D.l,D.h))\n",
    "    Res['c1_c0'] = ret(D.c,D.c.shift(-1)).fillna(0) #Tommorows return \n",
    "    Res['vol'] = zscore(D.v)\n",
    "    Res['ticker'] = ticker\n",
    "    return Res\n",
    "Res = make_inputs(filepath)\n",
    "print(type(Res))"
   ]
  },
  {
   "cell_type": "code",
   "execution_count": 10,
   "metadata": {
    "scrolled": false
   },
   "outputs": [
    {
     "data": {
      "text/html": [
       "<div>\n",
       "<table border=\"1\" class=\"dataframe\">\n",
       "  <thead>\n",
       "    <tr style=\"text-align: right;\">\n",
       "      <th></th>\n",
       "      <th>c_2_o</th>\n",
       "      <th>h_2_o</th>\n",
       "      <th>l_2_o</th>\n",
       "      <th>c_2_h</th>\n",
       "      <th>h_2_l</th>\n",
       "      <th>c1_c0</th>\n",
       "      <th>vol</th>\n",
       "      <th>ticker</th>\n",
       "    </tr>\n",
       "  </thead>\n",
       "  <tbody>\n",
       "    <tr>\n",
       "      <th>2010-07-01</th>\n",
       "      <td>-1.903707</td>\n",
       "      <td>0.190696</td>\n",
       "      <td>-1.780643</td>\n",
       "      <td>-2.994340</td>\n",
       "      <td>1.836564</td>\n",
       "      <td>-0.010616</td>\n",
       "      <td>1.197635</td>\n",
       "      <td>qep</td>\n",
       "    </tr>\n",
       "    <tr>\n",
       "      <th>2010-07-02</th>\n",
       "      <td>-0.758547</td>\n",
       "      <td>0.057368</td>\n",
       "      <td>-0.348498</td>\n",
       "      <td>-1.174928</td>\n",
       "      <td>0.376646</td>\n",
       "      <td>-0.032537</td>\n",
       "      <td>1.942951</td>\n",
       "      <td>qep</td>\n",
       "    </tr>\n",
       "    <tr>\n",
       "      <th>2010-07-06</th>\n",
       "      <td>-2.586059</td>\n",
       "      <td>-1.119977</td>\n",
       "      <td>-2.733060</td>\n",
       "      <td>-2.720119</td>\n",
       "      <td>1.606555</td>\n",
       "      <td>0.042469</td>\n",
       "      <td>0.854305</td>\n",
       "      <td>qep</td>\n",
       "    </tr>\n",
       "    <tr>\n",
       "      <th>2010-07-07</th>\n",
       "      <td>1.462571</td>\n",
       "      <td>1.451465</td>\n",
       "      <td>-0.375473</td>\n",
       "      <td>0.739043</td>\n",
       "      <td>1.598386</td>\n",
       "      <td>0.029882</td>\n",
       "      <td>0.770376</td>\n",
       "      <td>qep</td>\n",
       "    </tr>\n",
       "    <tr>\n",
       "      <th>2010-07-08</th>\n",
       "      <td>0.485175</td>\n",
       "      <td>1.722356</td>\n",
       "      <td>1.034700</td>\n",
       "      <td>-0.967330</td>\n",
       "      <td>0.506006</td>\n",
       "      <td>0.006266</td>\n",
       "      <td>0.668093</td>\n",
       "      <td>qep</td>\n",
       "    </tr>\n",
       "  </tbody>\n",
       "</table>\n",
       "</div>"
      ],
      "text/plain": [
       "               c_2_o     h_2_o     l_2_o     c_2_h     h_2_l     c1_c0  \\\n",
       "2010-07-01 -1.903707  0.190696 -1.780643 -2.994340  1.836564 -0.010616   \n",
       "2010-07-02 -0.758547  0.057368 -0.348498 -1.174928  0.376646 -0.032537   \n",
       "2010-07-06 -2.586059 -1.119977 -2.733060 -2.720119  1.606555  0.042469   \n",
       "2010-07-07  1.462571  1.451465 -0.375473  0.739043  1.598386  0.029882   \n",
       "2010-07-08  0.485175  1.722356  1.034700 -0.967330  0.506006  0.006266   \n",
       "\n",
       "                 vol ticker  \n",
       "2010-07-01  1.197635    qep  \n",
       "2010-07-02  1.942951    qep  \n",
       "2010-07-06  0.854305    qep  \n",
       "2010-07-07  0.770376    qep  \n",
       "2010-07-08  0.668093    qep  "
      ]
     },
     "execution_count": 10,
     "metadata": {},
     "output_type": "execute_result"
    }
   ],
   "source": [
    "Res.head() # Checking data frame"
   ]
  },
  {
   "cell_type": "markdown",
   "metadata": {},
   "source": [
    "## Processing all tickers to generate data framest"
   ]
  },
  {
   "cell_type": "code",
   "execution_count": 11,
   "metadata": {
    "scrolled": false
   },
   "outputs": [
    {
     "name": "stdout",
     "output_type": "stream",
     "text": [
      "This will take a minute\n"
     ]
    }
   ],
   "source": [
    "Final = pd.DataFrame()\n",
    "for f in os.listdir(datapath):\n",
    "    filepath = os.path.join(datapath,f)\n",
    "    if filepath.endswith('.csv'):\n",
    "        Res = make_inputs(filepath)\n",
    "        Final = Final.append(Res)\n",
    "print('This will take a minute')"
   ]
  },
  {
   "cell_type": "code",
   "execution_count": 12,
   "metadata": {
    "scrolled": false
   },
   "outputs": [
    {
     "data": {
      "text/html": [
       "<div>\n",
       "<table border=\"1\" class=\"dataframe\">\n",
       "  <thead>\n",
       "    <tr style=\"text-align: right;\">\n",
       "      <th></th>\n",
       "      <th>c_2_o</th>\n",
       "      <th>h_2_o</th>\n",
       "      <th>l_2_o</th>\n",
       "      <th>c_2_h</th>\n",
       "      <th>h_2_l</th>\n",
       "      <th>c1_c0</th>\n",
       "      <th>vol</th>\n",
       "      <th>ticker</th>\n",
       "    </tr>\n",
       "  </thead>\n",
       "  <tbody>\n",
       "    <tr>\n",
       "      <th>2010-07-01</th>\n",
       "      <td>-1.903707</td>\n",
       "      <td>0.190696</td>\n",
       "      <td>-1.780643</td>\n",
       "      <td>-2.994340</td>\n",
       "      <td>1.836564</td>\n",
       "      <td>-0.010616</td>\n",
       "      <td>1.197635</td>\n",
       "      <td>qep</td>\n",
       "    </tr>\n",
       "    <tr>\n",
       "      <th>2010-07-02</th>\n",
       "      <td>-0.758547</td>\n",
       "      <td>0.057368</td>\n",
       "      <td>-0.348498</td>\n",
       "      <td>-1.174928</td>\n",
       "      <td>0.376646</td>\n",
       "      <td>-0.032537</td>\n",
       "      <td>1.942951</td>\n",
       "      <td>qep</td>\n",
       "    </tr>\n",
       "    <tr>\n",
       "      <th>2010-07-06</th>\n",
       "      <td>-2.586059</td>\n",
       "      <td>-1.119977</td>\n",
       "      <td>-2.733060</td>\n",
       "      <td>-2.720119</td>\n",
       "      <td>1.606555</td>\n",
       "      <td>0.042469</td>\n",
       "      <td>0.854305</td>\n",
       "      <td>qep</td>\n",
       "    </tr>\n",
       "    <tr>\n",
       "      <th>2010-07-07</th>\n",
       "      <td>1.462571</td>\n",
       "      <td>1.451465</td>\n",
       "      <td>-0.375473</td>\n",
       "      <td>0.739043</td>\n",
       "      <td>1.598386</td>\n",
       "      <td>0.029882</td>\n",
       "      <td>0.770376</td>\n",
       "      <td>qep</td>\n",
       "    </tr>\n",
       "    <tr>\n",
       "      <th>2010-07-08</th>\n",
       "      <td>0.485175</td>\n",
       "      <td>1.722356</td>\n",
       "      <td>1.034700</td>\n",
       "      <td>-0.967330</td>\n",
       "      <td>0.506006</td>\n",
       "      <td>0.006266</td>\n",
       "      <td>0.668093</td>\n",
       "      <td>qep</td>\n",
       "    </tr>\n",
       "  </tbody>\n",
       "</table>\n",
       "</div>"
      ],
      "text/plain": [
       "               c_2_o     h_2_o     l_2_o     c_2_h     h_2_l     c1_c0  \\\n",
       "2010-07-01 -1.903707  0.190696 -1.780643 -2.994340  1.836564 -0.010616   \n",
       "2010-07-02 -0.758547  0.057368 -0.348498 -1.174928  0.376646 -0.032537   \n",
       "2010-07-06 -2.586059 -1.119977 -2.733060 -2.720119  1.606555  0.042469   \n",
       "2010-07-07  1.462571  1.451465 -0.375473  0.739043  1.598386  0.029882   \n",
       "2010-07-08  0.485175  1.722356  1.034700 -0.967330  0.506006  0.006266   \n",
       "\n",
       "                 vol ticker  \n",
       "2010-07-01  1.197635    qep  \n",
       "2010-07-02  1.942951    qep  \n",
       "2010-07-06  0.854305    qep  \n",
       "2010-07-07  0.770376    qep  \n",
       "2010-07-08  0.668093    qep  "
      ]
     },
     "execution_count": 12,
     "metadata": {},
     "output_type": "execute_result"
    }
   ],
   "source": [
    "Final.head()"
   ]
  },
  {
   "cell_type": "code",
   "execution_count": 13,
   "metadata": {
    "collapsed": true,
    "scrolled": false
   },
   "outputs": [],
   "source": [
    "pivot_columns = Final.columns[:-1]\n",
    "P = Final.pivot_table(index=Final.index,columns='ticker',values=pivot_columns) # Make a pivot table from the data"
   ]
  },
  {
   "cell_type": "code",
   "execution_count": 14,
   "metadata": {
    "scrolled": false
   },
   "outputs": [
    {
     "data": {
      "text/html": [
       "<div>\n",
       "<table border=\"1\" class=\"dataframe\">\n",
       "  <thead>\n",
       "    <tr>\n",
       "      <th></th>\n",
       "      <th colspan=\"10\" halign=\"left\">c_2_o</th>\n",
       "      <th>...</th>\n",
       "      <th colspan=\"10\" halign=\"left\">vol</th>\n",
       "    </tr>\n",
       "    <tr>\n",
       "      <th>ticker</th>\n",
       "      <th>a</th>\n",
       "      <th>aa</th>\n",
       "      <th>aapl</th>\n",
       "      <th>abbv</th>\n",
       "      <th>abc</th>\n",
       "      <th>abt</th>\n",
       "      <th>ace</th>\n",
       "      <th>acn</th>\n",
       "      <th>act</th>\n",
       "      <th>adbe</th>\n",
       "      <th>...</th>\n",
       "      <th>xl</th>\n",
       "      <th>xlnx</th>\n",
       "      <th>xom</th>\n",
       "      <th>xray</th>\n",
       "      <th>xrx</th>\n",
       "      <th>xyl</th>\n",
       "      <th>yhoo</th>\n",
       "      <th>yum</th>\n",
       "      <th>zion</th>\n",
       "      <th>zmh</th>\n",
       "    </tr>\n",
       "  </thead>\n",
       "  <tbody>\n",
       "    <tr>\n",
       "      <th>1998-01-02</th>\n",
       "      <td>NaN</td>\n",
       "      <td>-0.017649</td>\n",
       "      <td>6.991394</td>\n",
       "      <td>NaN</td>\n",
       "      <td>0.047250</td>\n",
       "      <td>1.845516</td>\n",
       "      <td>-0.601609</td>\n",
       "      <td>NaN</td>\n",
       "      <td>-0.911471</td>\n",
       "      <td>-0.375461</td>\n",
       "      <td>...</td>\n",
       "      <td>-0.676802</td>\n",
       "      <td>1.391497</td>\n",
       "      <td>-1.045626</td>\n",
       "      <td>-1.147952</td>\n",
       "      <td>-0.817355</td>\n",
       "      <td>NaN</td>\n",
       "      <td>-0.368713</td>\n",
       "      <td>-0.678763</td>\n",
       "      <td>-0.724482</td>\n",
       "      <td>NaN</td>\n",
       "    </tr>\n",
       "    <tr>\n",
       "      <th>1998-01-05</th>\n",
       "      <td>NaN</td>\n",
       "      <td>0.373488</td>\n",
       "      <td>-1.224062</td>\n",
       "      <td>NaN</td>\n",
       "      <td>-0.160945</td>\n",
       "      <td>0.031659</td>\n",
       "      <td>-0.234577</td>\n",
       "      <td>NaN</td>\n",
       "      <td>2.090086</td>\n",
       "      <td>0.791331</td>\n",
       "      <td>...</td>\n",
       "      <td>-0.621025</td>\n",
       "      <td>1.019607</td>\n",
       "      <td>-0.615370</td>\n",
       "      <td>-0.556684</td>\n",
       "      <td>-0.757660</td>\n",
       "      <td>NaN</td>\n",
       "      <td>0.064841</td>\n",
       "      <td>0.980283</td>\n",
       "      <td>-0.735275</td>\n",
       "      <td>NaN</td>\n",
       "    </tr>\n",
       "    <tr>\n",
       "      <th>1998-01-06</th>\n",
       "      <td>NaN</td>\n",
       "      <td>-0.718569</td>\n",
       "      <td>6.857266</td>\n",
       "      <td>NaN</td>\n",
       "      <td>-1.102853</td>\n",
       "      <td>-0.473164</td>\n",
       "      <td>0.452262</td>\n",
       "      <td>NaN</td>\n",
       "      <td>-1.239961</td>\n",
       "      <td>1.451409</td>\n",
       "      <td>...</td>\n",
       "      <td>-0.634169</td>\n",
       "      <td>0.020195</td>\n",
       "      <td>-0.527923</td>\n",
       "      <td>-1.131583</td>\n",
       "      <td>-0.629732</td>\n",
       "      <td>NaN</td>\n",
       "      <td>0.150071</td>\n",
       "      <td>1.697887</td>\n",
       "      <td>-0.683202</td>\n",
       "      <td>NaN</td>\n",
       "    </tr>\n",
       "    <tr>\n",
       "      <th>1998-01-07</th>\n",
       "      <td>NaN</td>\n",
       "      <td>0.980669</td>\n",
       "      <td>-3.007557</td>\n",
       "      <td>NaN</td>\n",
       "      <td>0.553079</td>\n",
       "      <td>0.746779</td>\n",
       "      <td>0.137372</td>\n",
       "      <td>NaN</td>\n",
       "      <td>-0.878292</td>\n",
       "      <td>-0.534781</td>\n",
       "      <td>...</td>\n",
       "      <td>-0.616242</td>\n",
       "      <td>1.023705</td>\n",
       "      <td>-0.134130</td>\n",
       "      <td>-0.329006</td>\n",
       "      <td>-0.504232</td>\n",
       "      <td>NaN</td>\n",
       "      <td>-0.463651</td>\n",
       "      <td>0.515268</td>\n",
       "      <td>-0.635858</td>\n",
       "      <td>NaN</td>\n",
       "    </tr>\n",
       "    <tr>\n",
       "      <th>1998-01-08</th>\n",
       "      <td>NaN</td>\n",
       "      <td>-1.828950</td>\n",
       "      <td>1.388888</td>\n",
       "      <td>NaN</td>\n",
       "      <td>0.488170</td>\n",
       "      <td>-0.221620</td>\n",
       "      <td>-0.484264</td>\n",
       "      <td>NaN</td>\n",
       "      <td>1.300492</td>\n",
       "      <td>0.538778</td>\n",
       "      <td>...</td>\n",
       "      <td>-0.655003</td>\n",
       "      <td>0.645285</td>\n",
       "      <td>-0.907375</td>\n",
       "      <td>-1.066107</td>\n",
       "      <td>-0.560549</td>\n",
       "      <td>NaN</td>\n",
       "      <td>-0.157777</td>\n",
       "      <td>0.235907</td>\n",
       "      <td>-0.605092</td>\n",
       "      <td>NaN</td>\n",
       "    </tr>\n",
       "  </tbody>\n",
       "</table>\n",
       "<p>5 rows × 3500 columns</p>\n",
       "</div>"
      ],
      "text/plain": [
       "           c_2_o                                                             \\\n",
       "ticker         a        aa      aapl abbv       abc       abt       ace acn   \n",
       "1998-01-02   NaN -0.017649  6.991394  NaN  0.047250  1.845516 -0.601609 NaN   \n",
       "1998-01-05   NaN  0.373488 -1.224062  NaN -0.160945  0.031659 -0.234577 NaN   \n",
       "1998-01-06   NaN -0.718569  6.857266  NaN -1.102853 -0.473164  0.452262 NaN   \n",
       "1998-01-07   NaN  0.980669 -3.007557  NaN  0.553079  0.746779  0.137372 NaN   \n",
       "1998-01-08   NaN -1.828950  1.388888  NaN  0.488170 -0.221620 -0.484264 NaN   \n",
       "\n",
       "                               ...       vol                                \\\n",
       "ticker           act      adbe ...        xl      xlnx       xom      xray   \n",
       "1998-01-02 -0.911471 -0.375461 ... -0.676802  1.391497 -1.045626 -1.147952   \n",
       "1998-01-05  2.090086  0.791331 ... -0.621025  1.019607 -0.615370 -0.556684   \n",
       "1998-01-06 -1.239961  1.451409 ... -0.634169  0.020195 -0.527923 -1.131583   \n",
       "1998-01-07 -0.878292 -0.534781 ... -0.616242  1.023705 -0.134130 -0.329006   \n",
       "1998-01-08  1.300492  0.538778 ... -0.655003  0.645285 -0.907375 -1.066107   \n",
       "\n",
       "                                                            \n",
       "ticker           xrx xyl      yhoo       yum      zion zmh  \n",
       "1998-01-02 -0.817355 NaN -0.368713 -0.678763 -0.724482 NaN  \n",
       "1998-01-05 -0.757660 NaN  0.064841  0.980283 -0.735275 NaN  \n",
       "1998-01-06 -0.629732 NaN  0.150071  1.697887 -0.683202 NaN  \n",
       "1998-01-07 -0.504232 NaN -0.463651  0.515268 -0.635858 NaN  \n",
       "1998-01-08 -0.560549 NaN -0.157777  0.235907 -0.605092 NaN  \n",
       "\n",
       "[5 rows x 3500 columns]"
      ]
     },
     "execution_count": 14,
     "metadata": {},
     "output_type": "execute_result"
    }
   ],
   "source": [
    "P.head()"
   ]
  },
  {
   "cell_type": "markdown",
   "metadata": {},
   "source": [
    "### Flattened pivot\n",
    "source http://stackoverflow.com/questions/14507794/python-pandas-how-to-flatten-a-hierarchical-index-in-columns\n",
    "P will be a flattened dataframe of all the entries for each stock, one day per row"
   ]
  },
  {
   "cell_type": "code",
   "execution_count": 15,
   "metadata": {
    "collapsed": true,
    "scrolled": false
   },
   "outputs": [],
   "source": [
    "mi = P.columns.tolist()"
   ]
  },
  {
   "cell_type": "code",
   "execution_count": 16,
   "metadata": {
    "collapsed": true,
    "scrolled": false
   },
   "outputs": [],
   "source": [
    "new_ind = pd.Index(e[1] +'_' + e[0] for e in mi)"
   ]
  },
  {
   "cell_type": "code",
   "execution_count": 17,
   "metadata": {
    "collapsed": true,
    "scrolled": false
   },
   "outputs": [],
   "source": [
    "P.columns = new_ind\n",
    "P = P.sort_index(axis=1) # Sort by columns"
   ]
  },
  {
   "cell_type": "code",
   "execution_count": 18,
   "metadata": {
    "scrolled": false
   },
   "outputs": [
    {
     "data": {
      "text/html": [
       "<div>\n",
       "<table border=\"1\" class=\"dataframe\">\n",
       "  <thead>\n",
       "    <tr style=\"text-align: right;\">\n",
       "      <th></th>\n",
       "      <th>a_c1_c0</th>\n",
       "      <th>a_c_2_h</th>\n",
       "      <th>a_c_2_o</th>\n",
       "      <th>a_h_2_l</th>\n",
       "      <th>a_h_2_o</th>\n",
       "      <th>a_l_2_o</th>\n",
       "      <th>a_vol</th>\n",
       "      <th>aa_c1_c0</th>\n",
       "      <th>aa_c_2_h</th>\n",
       "      <th>aa_c_2_o</th>\n",
       "      <th>...</th>\n",
       "      <th>zion_h_2_o</th>\n",
       "      <th>zion_l_2_o</th>\n",
       "      <th>zion_vol</th>\n",
       "      <th>zmh_c1_c0</th>\n",
       "      <th>zmh_c_2_h</th>\n",
       "      <th>zmh_c_2_o</th>\n",
       "      <th>zmh_h_2_l</th>\n",
       "      <th>zmh_h_2_o</th>\n",
       "      <th>zmh_l_2_o</th>\n",
       "      <th>zmh_vol</th>\n",
       "    </tr>\n",
       "  </thead>\n",
       "  <tbody>\n",
       "    <tr>\n",
       "      <th>1998-01-02</th>\n",
       "      <td>NaN</td>\n",
       "      <td>NaN</td>\n",
       "      <td>NaN</td>\n",
       "      <td>NaN</td>\n",
       "      <td>NaN</td>\n",
       "      <td>NaN</td>\n",
       "      <td>NaN</td>\n",
       "      <td>0.017390</td>\n",
       "      <td>0.670259</td>\n",
       "      <td>-0.017649</td>\n",
       "      <td>...</td>\n",
       "      <td>0.246401</td>\n",
       "      <td>0.710284</td>\n",
       "      <td>-0.724482</td>\n",
       "      <td>NaN</td>\n",
       "      <td>NaN</td>\n",
       "      <td>NaN</td>\n",
       "      <td>NaN</td>\n",
       "      <td>NaN</td>\n",
       "      <td>NaN</td>\n",
       "      <td>NaN</td>\n",
       "    </tr>\n",
       "    <tr>\n",
       "      <th>1998-01-05</th>\n",
       "      <td>NaN</td>\n",
       "      <td>NaN</td>\n",
       "      <td>NaN</td>\n",
       "      <td>NaN</td>\n",
       "      <td>NaN</td>\n",
       "      <td>NaN</td>\n",
       "      <td>NaN</td>\n",
       "      <td>-0.022601</td>\n",
       "      <td>0.462520</td>\n",
       "      <td>0.373488</td>\n",
       "      <td>...</td>\n",
       "      <td>0.127875</td>\n",
       "      <td>0.710284</td>\n",
       "      <td>-0.735275</td>\n",
       "      <td>NaN</td>\n",
       "      <td>NaN</td>\n",
       "      <td>NaN</td>\n",
       "      <td>NaN</td>\n",
       "      <td>NaN</td>\n",
       "      <td>NaN</td>\n",
       "      <td>NaN</td>\n",
       "    </tr>\n",
       "    <tr>\n",
       "      <th>1998-01-06</th>\n",
       "      <td>NaN</td>\n",
       "      <td>NaN</td>\n",
       "      <td>NaN</td>\n",
       "      <td>NaN</td>\n",
       "      <td>NaN</td>\n",
       "      <td>NaN</td>\n",
       "      <td>NaN</td>\n",
       "      <td>0.001693</td>\n",
       "      <td>-0.088471</td>\n",
       "      <td>-0.718569</td>\n",
       "      <td>...</td>\n",
       "      <td>-0.677287</td>\n",
       "      <td>-1.264514</td>\n",
       "      <td>-0.683202</td>\n",
       "      <td>NaN</td>\n",
       "      <td>NaN</td>\n",
       "      <td>NaN</td>\n",
       "      <td>NaN</td>\n",
       "      <td>NaN</td>\n",
       "      <td>NaN</td>\n",
       "      <td>NaN</td>\n",
       "    </tr>\n",
       "    <tr>\n",
       "      <th>1998-01-07</th>\n",
       "      <td>NaN</td>\n",
       "      <td>NaN</td>\n",
       "      <td>NaN</td>\n",
       "      <td>NaN</td>\n",
       "      <td>NaN</td>\n",
       "      <td>NaN</td>\n",
       "      <td>NaN</td>\n",
       "      <td>-0.042290</td>\n",
       "      <td>1.002099</td>\n",
       "      <td>0.980669</td>\n",
       "      <td>...</td>\n",
       "      <td>-0.677287</td>\n",
       "      <td>-1.175835</td>\n",
       "      <td>-0.635858</td>\n",
       "      <td>NaN</td>\n",
       "      <td>NaN</td>\n",
       "      <td>NaN</td>\n",
       "      <td>NaN</td>\n",
       "      <td>NaN</td>\n",
       "      <td>NaN</td>\n",
       "      <td>NaN</td>\n",
       "    </tr>\n",
       "    <tr>\n",
       "      <th>1998-01-08</th>\n",
       "      <td>NaN</td>\n",
       "      <td>NaN</td>\n",
       "      <td>NaN</td>\n",
       "      <td>NaN</td>\n",
       "      <td>NaN</td>\n",
       "      <td>NaN</td>\n",
       "      <td>NaN</td>\n",
       "      <td>-0.024094</td>\n",
       "      <td>-2.074267</td>\n",
       "      <td>-1.828950</td>\n",
       "      <td>...</td>\n",
       "      <td>-0.202411</td>\n",
       "      <td>-2.278200</td>\n",
       "      <td>-0.605092</td>\n",
       "      <td>NaN</td>\n",
       "      <td>NaN</td>\n",
       "      <td>NaN</td>\n",
       "      <td>NaN</td>\n",
       "      <td>NaN</td>\n",
       "      <td>NaN</td>\n",
       "      <td>NaN</td>\n",
       "    </tr>\n",
       "  </tbody>\n",
       "</table>\n",
       "<p>5 rows × 3500 columns</p>\n",
       "</div>"
      ],
      "text/plain": [
       "            a_c1_c0  a_c_2_h  a_c_2_o  a_h_2_l  a_h_2_o  a_l_2_o  a_vol  \\\n",
       "1998-01-02      NaN      NaN      NaN      NaN      NaN      NaN    NaN   \n",
       "1998-01-05      NaN      NaN      NaN      NaN      NaN      NaN    NaN   \n",
       "1998-01-06      NaN      NaN      NaN      NaN      NaN      NaN    NaN   \n",
       "1998-01-07      NaN      NaN      NaN      NaN      NaN      NaN    NaN   \n",
       "1998-01-08      NaN      NaN      NaN      NaN      NaN      NaN    NaN   \n",
       "\n",
       "            aa_c1_c0  aa_c_2_h  aa_c_2_o   ...     zion_h_2_o  zion_l_2_o  \\\n",
       "1998-01-02  0.017390  0.670259 -0.017649   ...       0.246401    0.710284   \n",
       "1998-01-05 -0.022601  0.462520  0.373488   ...       0.127875    0.710284   \n",
       "1998-01-06  0.001693 -0.088471 -0.718569   ...      -0.677287   -1.264514   \n",
       "1998-01-07 -0.042290  1.002099  0.980669   ...      -0.677287   -1.175835   \n",
       "1998-01-08 -0.024094 -2.074267 -1.828950   ...      -0.202411   -2.278200   \n",
       "\n",
       "            zion_vol  zmh_c1_c0  zmh_c_2_h  zmh_c_2_o  zmh_h_2_l  zmh_h_2_o  \\\n",
       "1998-01-02 -0.724482        NaN        NaN        NaN        NaN        NaN   \n",
       "1998-01-05 -0.735275        NaN        NaN        NaN        NaN        NaN   \n",
       "1998-01-06 -0.683202        NaN        NaN        NaN        NaN        NaN   \n",
       "1998-01-07 -0.635858        NaN        NaN        NaN        NaN        NaN   \n",
       "1998-01-08 -0.605092        NaN        NaN        NaN        NaN        NaN   \n",
       "\n",
       "            zmh_l_2_o  zmh_vol  \n",
       "1998-01-02        NaN      NaN  \n",
       "1998-01-05        NaN      NaN  \n",
       "1998-01-06        NaN      NaN  \n",
       "1998-01-07        NaN      NaN  \n",
       "1998-01-08        NaN      NaN  \n",
       "\n",
       "[5 rows x 3500 columns]"
      ]
     },
     "execution_count": 18,
     "metadata": {},
     "output_type": "execute_result"
    }
   ],
   "source": [
    "P.head()"
   ]
  },
  {
   "cell_type": "code",
   "execution_count": 19,
   "metadata": {
    "collapsed": true,
    "scrolled": false
   },
   "outputs": [],
   "source": [
    "clean_and_flat = P.dropna(1)"
   ]
  },
  {
   "cell_type": "code",
   "execution_count": 20,
   "metadata": {
    "collapsed": true,
    "scrolled": true
   },
   "outputs": [],
   "source": [
    "target_cols = list(filter(lambda x: 'c1_c0' in x, clean_and_flat.columns.values))\n",
    "input_cols  = list(filter(lambda x: 'c1_c0' not in x, clean_and_flat.columns.values))"
   ]
  },
  {
   "cell_type": "code",
   "execution_count": 21,
   "metadata": {},
   "outputs": [
    {
     "data": {
      "text/plain": [
       "388"
      ]
     },
     "execution_count": 21,
     "metadata": {},
     "output_type": "execute_result"
    }
   ],
   "source": [
    "len(target_cols)"
   ]
  },
  {
   "cell_type": "code",
   "execution_count": 22,
   "metadata": {
    "collapsed": true,
    "scrolled": false
   },
   "outputs": [],
   "source": [
    "InputDF = clean_and_flat[input_cols][:3900]\n",
    "TargetDF = clean_and_flat[target_cols][:3900]"
   ]
  },
  {
   "cell_type": "code",
   "execution_count": 23,
   "metadata": {},
   "outputs": [
    {
     "data": {
      "text/html": [
       "<div>\n",
       "<table border=\"1\" class=\"dataframe\">\n",
       "  <thead>\n",
       "    <tr style=\"text-align: right;\">\n",
       "      <th></th>\n",
       "      <th>aa_c_2_h</th>\n",
       "      <th>aa_c_2_o</th>\n",
       "      <th>aa_h_2_l</th>\n",
       "      <th>aa_h_2_o</th>\n",
       "      <th>aa_l_2_o</th>\n",
       "      <th>aa_vol</th>\n",
       "      <th>aapl_c_2_h</th>\n",
       "      <th>aapl_c_2_o</th>\n",
       "      <th>aapl_h_2_l</th>\n",
       "      <th>aapl_h_2_o</th>\n",
       "      <th>...</th>\n",
       "      <th>yum_h_2_l</th>\n",
       "      <th>yum_h_2_o</th>\n",
       "      <th>yum_l_2_o</th>\n",
       "      <th>yum_vol</th>\n",
       "      <th>zion_c_2_h</th>\n",
       "      <th>zion_c_2_o</th>\n",
       "      <th>zion_h_2_l</th>\n",
       "      <th>zion_h_2_o</th>\n",
       "      <th>zion_l_2_o</th>\n",
       "      <th>zion_vol</th>\n",
       "    </tr>\n",
       "  </thead>\n",
       "  <tbody>\n",
       "    <tr>\n",
       "      <th>1998-01-02</th>\n",
       "      <td>0.670259</td>\n",
       "      <td>-0.017649</td>\n",
       "      <td>-0.934572</td>\n",
       "      <td>-0.735743</td>\n",
       "      <td>0.435162</td>\n",
       "      <td>-0.761999</td>\n",
       "      <td>1.019696</td>\n",
       "      <td>6.991394</td>\n",
       "      <td>6.649433</td>\n",
       "      <td>8.707782</td>\n",
       "      <td>...</td>\n",
       "      <td>0.416891</td>\n",
       "      <td>-0.322652</td>\n",
       "      <td>-0.855900</td>\n",
       "      <td>-0.678763</td>\n",
       "      <td>0.224681</td>\n",
       "      <td>0.419702</td>\n",
       "      <td>-0.312078</td>\n",
       "      <td>0.246401</td>\n",
       "      <td>0.710284</td>\n",
       "      <td>-0.724482</td>\n",
       "    </tr>\n",
       "    <tr>\n",
       "      <th>1998-01-05</th>\n",
       "      <td>0.462520</td>\n",
       "      <td>0.373488</td>\n",
       "      <td>-0.732608</td>\n",
       "      <td>0.061561</td>\n",
       "      <td>0.900313</td>\n",
       "      <td>-0.566965</td>\n",
       "      <td>-0.984079</td>\n",
       "      <td>-1.224062</td>\n",
       "      <td>2.242381</td>\n",
       "      <td>-0.763862</td>\n",
       "      <td>...</td>\n",
       "      <td>1.360326</td>\n",
       "      <td>-0.644971</td>\n",
       "      <td>-2.369968</td>\n",
       "      <td>0.980283</td>\n",
       "      <td>0.673049</td>\n",
       "      <td>0.719822</td>\n",
       "      <td>-0.392667</td>\n",
       "      <td>0.127875</td>\n",
       "      <td>0.710284</td>\n",
       "      <td>-0.735275</td>\n",
       "    </tr>\n",
       "    <tr>\n",
       "      <th>1998-01-06</th>\n",
       "      <td>-0.088471</td>\n",
       "      <td>-0.718569</td>\n",
       "      <td>-0.720530</td>\n",
       "      <td>-0.966978</td>\n",
       "      <td>-0.014696</td>\n",
       "      <td>-0.665787</td>\n",
       "      <td>-3.590776</td>\n",
       "      <td>6.857266</td>\n",
       "      <td>13.046850</td>\n",
       "      <td>12.876073</td>\n",
       "      <td>...</td>\n",
       "      <td>0.539951</td>\n",
       "      <td>-0.942530</td>\n",
       "      <td>-1.652489</td>\n",
       "      <td>1.697887</td>\n",
       "      <td>0.122250</td>\n",
       "      <td>-0.486186</td>\n",
       "      <td>0.393348</td>\n",
       "      <td>-0.677287</td>\n",
       "      <td>-1.264514</td>\n",
       "      <td>-0.683202</td>\n",
       "    </tr>\n",
       "    <tr>\n",
       "      <th>1998-01-07</th>\n",
       "      <td>1.002099</td>\n",
       "      <td>0.980669</td>\n",
       "      <td>-0.569841</td>\n",
       "      <td>0.386474</td>\n",
       "      <td>0.996909</td>\n",
       "      <td>-0.708534</td>\n",
       "      <td>-4.732173</td>\n",
       "      <td>-3.007557</td>\n",
       "      <td>3.126659</td>\n",
       "      <td>0.308601</td>\n",
       "      <td>...</td>\n",
       "      <td>0.954036</td>\n",
       "      <td>1.362584</td>\n",
       "      <td>0.219573</td>\n",
       "      <td>0.515268</td>\n",
       "      <td>-0.524524</td>\n",
       "      <td>-1.069686</td>\n",
       "      <td>0.333468</td>\n",
       "      <td>-0.677287</td>\n",
       "      <td>-1.175835</td>\n",
       "      <td>-0.635858</td>\n",
       "    </tr>\n",
       "    <tr>\n",
       "      <th>1998-01-08</th>\n",
       "      <td>-2.074267</td>\n",
       "      <td>-1.828950</td>\n",
       "      <td>0.917882</td>\n",
       "      <td>-0.503345</td>\n",
       "      <td>-1.501386</td>\n",
       "      <td>-0.784476</td>\n",
       "      <td>-0.790227</td>\n",
       "      <td>1.388888</td>\n",
       "      <td>2.631329</td>\n",
       "      <td>2.667391</td>\n",
       "      <td>...</td>\n",
       "      <td>0.768144</td>\n",
       "      <td>-0.263050</td>\n",
       "      <td>-1.233393</td>\n",
       "      <td>0.235907</td>\n",
       "      <td>-2.687743</td>\n",
       "      <td>-2.603061</td>\n",
       "      <td>1.400707</td>\n",
       "      <td>-0.202411</td>\n",
       "      <td>-2.278200</td>\n",
       "      <td>-0.605092</td>\n",
       "    </tr>\n",
       "  </tbody>\n",
       "</table>\n",
       "<p>5 rows × 2328 columns</p>\n",
       "</div>"
      ],
      "text/plain": [
       "            aa_c_2_h  aa_c_2_o  aa_h_2_l  aa_h_2_o  aa_l_2_o    aa_vol  \\\n",
       "1998-01-02  0.670259 -0.017649 -0.934572 -0.735743  0.435162 -0.761999   \n",
       "1998-01-05  0.462520  0.373488 -0.732608  0.061561  0.900313 -0.566965   \n",
       "1998-01-06 -0.088471 -0.718569 -0.720530 -0.966978 -0.014696 -0.665787   \n",
       "1998-01-07  1.002099  0.980669 -0.569841  0.386474  0.996909 -0.708534   \n",
       "1998-01-08 -2.074267 -1.828950  0.917882 -0.503345 -1.501386 -0.784476   \n",
       "\n",
       "            aapl_c_2_h  aapl_c_2_o  aapl_h_2_l  aapl_h_2_o    ...     \\\n",
       "1998-01-02    1.019696    6.991394    6.649433    8.707782    ...      \n",
       "1998-01-05   -0.984079   -1.224062    2.242381   -0.763862    ...      \n",
       "1998-01-06   -3.590776    6.857266   13.046850   12.876073    ...      \n",
       "1998-01-07   -4.732173   -3.007557    3.126659    0.308601    ...      \n",
       "1998-01-08   -0.790227    1.388888    2.631329    2.667391    ...      \n",
       "\n",
       "            yum_h_2_l  yum_h_2_o  yum_l_2_o   yum_vol  zion_c_2_h  zion_c_2_o  \\\n",
       "1998-01-02   0.416891  -0.322652  -0.855900 -0.678763    0.224681    0.419702   \n",
       "1998-01-05   1.360326  -0.644971  -2.369968  0.980283    0.673049    0.719822   \n",
       "1998-01-06   0.539951  -0.942530  -1.652489  1.697887    0.122250   -0.486186   \n",
       "1998-01-07   0.954036   1.362584   0.219573  0.515268   -0.524524   -1.069686   \n",
       "1998-01-08   0.768144  -0.263050  -1.233393  0.235907   -2.687743   -2.603061   \n",
       "\n",
       "            zion_h_2_l  zion_h_2_o  zion_l_2_o  zion_vol  \n",
       "1998-01-02   -0.312078    0.246401    0.710284 -0.724482  \n",
       "1998-01-05   -0.392667    0.127875    0.710284 -0.735275  \n",
       "1998-01-06    0.393348   -0.677287   -1.264514 -0.683202  \n",
       "1998-01-07    0.333468   -0.677287   -1.175835 -0.635858  \n",
       "1998-01-08    1.400707   -0.202411   -2.278200 -0.605092  \n",
       "\n",
       "[5 rows x 2328 columns]"
      ]
     },
     "execution_count": 23,
     "metadata": {},
     "output_type": "execute_result"
    }
   ],
   "source": [
    "InputDF.head()"
   ]
  },
  {
   "cell_type": "code",
   "execution_count": 24,
   "metadata": {},
   "outputs": [
    {
     "data": {
      "text/html": [
       "<div>\n",
       "<table border=\"1\" class=\"dataframe\">\n",
       "  <thead>\n",
       "    <tr style=\"text-align: right;\">\n",
       "      <th></th>\n",
       "      <th>aa_c1_c0</th>\n",
       "      <th>aapl_c1_c0</th>\n",
       "      <th>abc_c1_c0</th>\n",
       "      <th>abt_c1_c0</th>\n",
       "      <th>ace_c1_c0</th>\n",
       "      <th>act_c1_c0</th>\n",
       "      <th>adbe_c1_c0</th>\n",
       "      <th>adi_c1_c0</th>\n",
       "      <th>adm_c1_c0</th>\n",
       "      <th>adp_c1_c0</th>\n",
       "      <th>...</th>\n",
       "      <th>x_c1_c0</th>\n",
       "      <th>xel_c1_c0</th>\n",
       "      <th>xl_c1_c0</th>\n",
       "      <th>xlnx_c1_c0</th>\n",
       "      <th>xom_c1_c0</th>\n",
       "      <th>xray_c1_c0</th>\n",
       "      <th>xrx_c1_c0</th>\n",
       "      <th>yhoo_c1_c0</th>\n",
       "      <th>yum_c1_c0</th>\n",
       "      <th>zion_c1_c0</th>\n",
       "    </tr>\n",
       "  </thead>\n",
       "  <tbody>\n",
       "    <tr>\n",
       "      <th>1998-01-02</th>\n",
       "      <td>0.017390</td>\n",
       "      <td>-0.015503</td>\n",
       "      <td>-0.016078</td>\n",
       "      <td>0.004586</td>\n",
       "      <td>-0.006547</td>\n",
       "      <td>0.047809</td>\n",
       "      <td>0.012268</td>\n",
       "      <td>0.038082</td>\n",
       "      <td>0.000000</td>\n",
       "      <td>0.012420</td>\n",
       "      <td>...</td>\n",
       "      <td>-0.006149</td>\n",
       "      <td>-0.010796</td>\n",
       "      <td>0.004856</td>\n",
       "      <td>-0.019672</td>\n",
       "      <td>-0.011189</td>\n",
       "      <td>-0.029680</td>\n",
       "      <td>0.015005</td>\n",
       "      <td>-0.054224</td>\n",
       "      <td>-0.023887</td>\n",
       "      <td>0.019158</td>\n",
       "    </tr>\n",
       "    <tr>\n",
       "      <th>1998-01-05</th>\n",
       "      <td>-0.022601</td>\n",
       "      <td>0.168686</td>\n",
       "      <td>-0.018823</td>\n",
       "      <td>-0.016672</td>\n",
       "      <td>0.007916</td>\n",
       "      <td>-0.005666</td>\n",
       "      <td>0.035934</td>\n",
       "      <td>-0.033379</td>\n",
       "      <td>-0.017727</td>\n",
       "      <td>0.002139</td>\n",
       "      <td>...</td>\n",
       "      <td>-0.012078</td>\n",
       "      <td>-0.012148</td>\n",
       "      <td>-0.003001</td>\n",
       "      <td>-0.006644</td>\n",
       "      <td>-0.038411</td>\n",
       "      <td>-0.002427</td>\n",
       "      <td>-0.008338</td>\n",
       "      <td>0.016891</td>\n",
       "      <td>-0.040999</td>\n",
       "      <td>-0.010841</td>\n",
       "    </tr>\n",
       "    <tr>\n",
       "      <th>1998-01-06</th>\n",
       "      <td>0.001693</td>\n",
       "      <td>-0.082508</td>\n",
       "      <td>0.010072</td>\n",
       "      <td>0.005546</td>\n",
       "      <td>0.005239</td>\n",
       "      <td>-0.022684</td>\n",
       "      <td>-0.016370</td>\n",
       "      <td>-0.043925</td>\n",
       "      <td>0.062917</td>\n",
       "      <td>-0.013562</td>\n",
       "      <td>...</td>\n",
       "      <td>0.026259</td>\n",
       "      <td>-0.008895</td>\n",
       "      <td>-0.017745</td>\n",
       "      <td>-0.044161</td>\n",
       "      <td>0.030221</td>\n",
       "      <td>-0.006268</td>\n",
       "      <td>-0.034613</td>\n",
       "      <td>-0.001095</td>\n",
       "      <td>0.000000</td>\n",
       "      <td>-0.029190</td>\n",
       "    </tr>\n",
       "    <tr>\n",
       "      <th>1998-01-07</th>\n",
       "      <td>-0.042290</td>\n",
       "      <td>0.034934</td>\n",
       "      <td>0.005435</td>\n",
       "      <td>0.015691</td>\n",
       "      <td>-0.017187</td>\n",
       "      <td>0.020888</td>\n",
       "      <td>0.010469</td>\n",
       "      <td>0.002260</td>\n",
       "      <td>-0.016930</td>\n",
       "      <td>-0.004169</td>\n",
       "      <td>...</td>\n",
       "      <td>0.000000</td>\n",
       "      <td>0.002141</td>\n",
       "      <td>-0.014475</td>\n",
       "      <td>0.005005</td>\n",
       "      <td>-0.020771</td>\n",
       "      <td>-0.006658</td>\n",
       "      <td>-0.020850</td>\n",
       "      <td>0.006869</td>\n",
       "      <td>-0.040050</td>\n",
       "      <td>-0.083267</td>\n",
       "    </tr>\n",
       "    <tr>\n",
       "      <th>1998-01-08</th>\n",
       "      <td>-0.024094</td>\n",
       "      <td>0.010464</td>\n",
       "      <td>-0.031078</td>\n",
       "      <td>-0.011075</td>\n",
       "      <td>0.005301</td>\n",
       "      <td>-0.056066</td>\n",
       "      <td>-0.026867</td>\n",
       "      <td>-0.060529</td>\n",
       "      <td>-0.014034</td>\n",
       "      <td>-0.017884</td>\n",
       "      <td>...</td>\n",
       "      <td>-0.083382</td>\n",
       "      <td>-0.008964</td>\n",
       "      <td>-0.018331</td>\n",
       "      <td>-0.037006</td>\n",
       "      <td>-0.022243</td>\n",
       "      <td>-0.049740</td>\n",
       "      <td>-0.040273</td>\n",
       "      <td>-0.039685</td>\n",
       "      <td>0.007296</td>\n",
       "      <td>-0.037270</td>\n",
       "    </tr>\n",
       "  </tbody>\n",
       "</table>\n",
       "<p>5 rows × 388 columns</p>\n",
       "</div>"
      ],
      "text/plain": [
       "            aa_c1_c0  aapl_c1_c0  abc_c1_c0  abt_c1_c0  ace_c1_c0  act_c1_c0  \\\n",
       "1998-01-02  0.017390   -0.015503  -0.016078   0.004586  -0.006547   0.047809   \n",
       "1998-01-05 -0.022601    0.168686  -0.018823  -0.016672   0.007916  -0.005666   \n",
       "1998-01-06  0.001693   -0.082508   0.010072   0.005546   0.005239  -0.022684   \n",
       "1998-01-07 -0.042290    0.034934   0.005435   0.015691  -0.017187   0.020888   \n",
       "1998-01-08 -0.024094    0.010464  -0.031078  -0.011075   0.005301  -0.056066   \n",
       "\n",
       "            adbe_c1_c0  adi_c1_c0  adm_c1_c0  adp_c1_c0     ...       x_c1_c0  \\\n",
       "1998-01-02    0.012268   0.038082   0.000000   0.012420     ...     -0.006149   \n",
       "1998-01-05    0.035934  -0.033379  -0.017727   0.002139     ...     -0.012078   \n",
       "1998-01-06   -0.016370  -0.043925   0.062917  -0.013562     ...      0.026259   \n",
       "1998-01-07    0.010469   0.002260  -0.016930  -0.004169     ...      0.000000   \n",
       "1998-01-08   -0.026867  -0.060529  -0.014034  -0.017884     ...     -0.083382   \n",
       "\n",
       "            xel_c1_c0  xl_c1_c0  xlnx_c1_c0  xom_c1_c0  xray_c1_c0  xrx_c1_c0  \\\n",
       "1998-01-02  -0.010796  0.004856   -0.019672  -0.011189   -0.029680   0.015005   \n",
       "1998-01-05  -0.012148 -0.003001   -0.006644  -0.038411   -0.002427  -0.008338   \n",
       "1998-01-06  -0.008895 -0.017745   -0.044161   0.030221   -0.006268  -0.034613   \n",
       "1998-01-07   0.002141 -0.014475    0.005005  -0.020771   -0.006658  -0.020850   \n",
       "1998-01-08  -0.008964 -0.018331   -0.037006  -0.022243   -0.049740  -0.040273   \n",
       "\n",
       "            yhoo_c1_c0  yum_c1_c0  zion_c1_c0  \n",
       "1998-01-02   -0.054224  -0.023887    0.019158  \n",
       "1998-01-05    0.016891  -0.040999   -0.010841  \n",
       "1998-01-06   -0.001095   0.000000   -0.029190  \n",
       "1998-01-07    0.006869  -0.040050   -0.083267  \n",
       "1998-01-08   -0.039685   0.007296   -0.037270  \n",
       "\n",
       "[5 rows x 388 columns]"
      ]
     },
     "execution_count": 24,
     "metadata": {},
     "output_type": "execute_result"
    }
   ],
   "source": [
    "TargetDF.head()"
   ]
  },
  {
   "cell_type": "code",
   "execution_count": 25,
   "metadata": {
    "collapsed": true,
    "scrolled": false
   },
   "outputs": [],
   "source": [
    "corrs = TargetDF.corr()"
   ]
  },
  {
   "cell_type": "markdown",
   "metadata": {},
   "source": [
    "## Setting Targets\n",
    "We now have an our inputs and targets, kind of. \n",
    "InputsDF has all the inputs we want to predict. Targets DF has the return of each stock each day. \n",
    "For starters, lets give a simpler target to predict than the reuturn of each stock, since we don't have much data. \n",
    "\n",
    "\n",
    "We're going to label the targets as either up (1) down (-1) or flat (0) days.\n",
    "The top chart shows what would happen if we bought 1 dollar of each stock each day\n",
    "The bottom chart shows what would happen if we longed the whole basket on (1) days, shorted it on down days (-1) and ignored it on  (0) days. \n",
    "You can see that this is a valuable target to predict."
   ]
  },
  {
   "cell_type": "code",
   "execution_count": 26,
   "metadata": {
    "collapsed": true,
    "scrolled": false
   },
   "outputs": [],
   "source": [
    "num_stocks = len(TargetDF.columns)"
   ]
  },
  {
   "cell_type": "code",
   "execution_count": 27,
   "metadata": {
    "collapsed": true,
    "scrolled": false
   },
   "outputs": [],
   "source": [
    "TotalReturn = ((1-exp(TargetDF)).sum(1))/num_stocks # If i put one dollar in each stock at the close, this is how much I'd get back"
   ]
  },
  {
   "cell_type": "code",
   "execution_count": 28,
   "metadata": {
    "collapsed": true,
    "scrolled": false
   },
   "outputs": [],
   "source": [
    "def labeler(x):\n",
    "    if x>0.0029:\n",
    "        return 1\n",
    "    if x<-0.00462:\n",
    "        return -1\n",
    "    else:\n",
    "        return 0"
   ]
  },
  {
   "cell_type": "code",
   "execution_count": 29,
   "metadata": {
    "collapsed": true,
    "scrolled": false
   },
   "outputs": [],
   "source": [
    "Labeled = pd.DataFrame()\n",
    "Labeled['return'] = TotalReturn\n",
    "Labeled['class'] = TotalReturn.apply(labeler,1)\n",
    "Labeled['multi_class'] = pd.qcut(TotalReturn,11,labels=range(11))"
   ]
  },
  {
   "cell_type": "code",
   "execution_count": 30,
   "metadata": {
    "scrolled": false
   },
   "outputs": [
    {
     "data": {
      "text/plain": [
       "[(-0.00301, 0.00119], (0.00741, 0.0999], (0.00119, 0.00741], [-0.108, -0.00877], (-0.00877, -0.00301]]\n",
       "Categories (5, object): [[-0.108, -0.00877] < (-0.00877, -0.00301] < (-0.00301, 0.00119] < (0.00119, 0.00741] < (0.00741, 0.0999]]"
      ]
     },
     "execution_count": 30,
     "metadata": {},
     "output_type": "execute_result"
    }
   ],
   "source": [
    "pd.qcut(TotalReturn,5).unique()"
   ]
  },
  {
   "cell_type": "code",
   "execution_count": null,
   "metadata": {
    "collapsed": true,
    "scrolled": false
   },
   "outputs": [],
   "source": []
  },
  {
   "cell_type": "code",
   "execution_count": 31,
   "metadata": {
    "collapsed": true,
    "scrolled": false
   },
   "outputs": [],
   "source": [
    "def labeler_multi(x):\n",
    "    if x>0.0029:\n",
    "        return 1\n",
    "    if x<-0.00462:\n",
    "        return -1\n",
    "    else:\n",
    "        return 0"
   ]
  },
  {
   "cell_type": "code",
   "execution_count": 32,
   "metadata": {
    "scrolled": false
   },
   "outputs": [
    {
     "data": {
      "text/plain": [
       " 1    1301\n",
       " 0    1301\n",
       "-1    1298\n",
       "Name: class, dtype: int64"
      ]
     },
     "execution_count": 32,
     "metadata": {},
     "output_type": "execute_result"
    }
   ],
   "source": [
    "Labeled['class'].value_counts()"
   ]
  },
  {
   "cell_type": "code",
   "execution_count": 33,
   "metadata": {
    "collapsed": true,
    "scrolled": false
   },
   "outputs": [],
   "source": [
    "Labeled['max_return'] = Labeled['class'] * Labeled['return']"
   ]
  },
  {
   "cell_type": "code",
   "execution_count": 34,
   "metadata": {},
   "outputs": [
    {
     "data": {
      "text/html": [
       "<div>\n",
       "<table border=\"1\" class=\"dataframe\">\n",
       "  <thead>\n",
       "    <tr style=\"text-align: right;\">\n",
       "      <th></th>\n",
       "      <th>return</th>\n",
       "      <th>class</th>\n",
       "      <th>multi_class</th>\n",
       "      <th>max_return</th>\n",
       "    </tr>\n",
       "  </thead>\n",
       "  <tbody>\n",
       "    <tr>\n",
       "      <th>1998-01-02</th>\n",
       "      <td>-0.000101</td>\n",
       "      <td>0</td>\n",
       "      <td>6</td>\n",
       "      <td>-0.000000</td>\n",
       "    </tr>\n",
       "    <tr>\n",
       "      <th>1998-01-05</th>\n",
       "      <td>0.008144</td>\n",
       "      <td>1</td>\n",
       "      <td>8</td>\n",
       "      <td>0.008144</td>\n",
       "    </tr>\n",
       "    <tr>\n",
       "      <th>1998-01-06</th>\n",
       "      <td>0.005501</td>\n",
       "      <td>1</td>\n",
       "      <td>8</td>\n",
       "      <td>0.005501</td>\n",
       "    </tr>\n",
       "    <tr>\n",
       "      <th>1998-01-07</th>\n",
       "      <td>0.006905</td>\n",
       "      <td>1</td>\n",
       "      <td>8</td>\n",
       "      <td>0.006905</td>\n",
       "    </tr>\n",
       "    <tr>\n",
       "      <th>1998-01-08</th>\n",
       "      <td>0.031674</td>\n",
       "      <td>1</td>\n",
       "      <td>10</td>\n",
       "      <td>0.031674</td>\n",
       "    </tr>\n",
       "    <tr>\n",
       "      <th>1998-01-09</th>\n",
       "      <td>-0.002883</td>\n",
       "      <td>0</td>\n",
       "      <td>4</td>\n",
       "      <td>-0.000000</td>\n",
       "    </tr>\n",
       "    <tr>\n",
       "      <th>1998-01-12</th>\n",
       "      <td>-0.017040</td>\n",
       "      <td>-1</td>\n",
       "      <td>0</td>\n",
       "      <td>0.017040</td>\n",
       "    </tr>\n",
       "    <tr>\n",
       "      <th>1998-01-13</th>\n",
       "      <td>-0.007591</td>\n",
       "      <td>-1</td>\n",
       "      <td>2</td>\n",
       "      <td>0.007591</td>\n",
       "    </tr>\n",
       "    <tr>\n",
       "      <th>1998-01-14</th>\n",
       "      <td>0.004450</td>\n",
       "      <td>1</td>\n",
       "      <td>7</td>\n",
       "      <td>0.004450</td>\n",
       "    </tr>\n",
       "    <tr>\n",
       "      <th>1998-01-15</th>\n",
       "      <td>-0.009007</td>\n",
       "      <td>-1</td>\n",
       "      <td>2</td>\n",
       "      <td>0.009007</td>\n",
       "    </tr>\n",
       "    <tr>\n",
       "      <th>1998-01-16</th>\n",
       "      <td>-0.016143</td>\n",
       "      <td>-1</td>\n",
       "      <td>0</td>\n",
       "      <td>0.016143</td>\n",
       "    </tr>\n",
       "    <tr>\n",
       "      <th>1998-01-20</th>\n",
       "      <td>0.005261</td>\n",
       "      <td>1</td>\n",
       "      <td>8</td>\n",
       "      <td>0.005261</td>\n",
       "    </tr>\n",
       "    <tr>\n",
       "      <th>1998-01-21</th>\n",
       "      <td>0.011348</td>\n",
       "      <td>1</td>\n",
       "      <td>9</td>\n",
       "      <td>0.011348</td>\n",
       "    </tr>\n",
       "    <tr>\n",
       "      <th>1998-01-22</th>\n",
       "      <td>0.006010</td>\n",
       "      <td>1</td>\n",
       "      <td>8</td>\n",
       "      <td>0.006010</td>\n",
       "    </tr>\n",
       "    <tr>\n",
       "      <th>1998-01-23</th>\n",
       "      <td>0.001350</td>\n",
       "      <td>0</td>\n",
       "      <td>6</td>\n",
       "      <td>0.000000</td>\n",
       "    </tr>\n",
       "    <tr>\n",
       "      <th>1998-01-26</th>\n",
       "      <td>-0.006524</td>\n",
       "      <td>-1</td>\n",
       "      <td>2</td>\n",
       "      <td>0.006524</td>\n",
       "    </tr>\n",
       "    <tr>\n",
       "      <th>1998-01-27</th>\n",
       "      <td>-0.012866</td>\n",
       "      <td>-1</td>\n",
       "      <td>1</td>\n",
       "      <td>0.012866</td>\n",
       "    </tr>\n",
       "    <tr>\n",
       "      <th>1998-01-28</th>\n",
       "      <td>-0.008553</td>\n",
       "      <td>-1</td>\n",
       "      <td>2</td>\n",
       "      <td>0.008553</td>\n",
       "    </tr>\n",
       "    <tr>\n",
       "      <th>1998-01-29</th>\n",
       "      <td>0.002832</td>\n",
       "      <td>0</td>\n",
       "      <td>7</td>\n",
       "      <td>0.000000</td>\n",
       "    </tr>\n",
       "    <tr>\n",
       "      <th>1998-01-30</th>\n",
       "      <td>-0.019022</td>\n",
       "      <td>-1</td>\n",
       "      <td>0</td>\n",
       "      <td>0.019022</td>\n",
       "    </tr>\n",
       "    <tr>\n",
       "      <th>1998-02-02</th>\n",
       "      <td>-0.007555</td>\n",
       "      <td>-1</td>\n",
       "      <td>2</td>\n",
       "      <td>0.007555</td>\n",
       "    </tr>\n",
       "    <tr>\n",
       "      <th>1998-02-03</th>\n",
       "      <td>-0.004857</td>\n",
       "      <td>-1</td>\n",
       "      <td>3</td>\n",
       "      <td>0.004857</td>\n",
       "    </tr>\n",
       "    <tr>\n",
       "      <th>1998-02-04</th>\n",
       "      <td>-0.000357</td>\n",
       "      <td>0</td>\n",
       "      <td>5</td>\n",
       "      <td>-0.000000</td>\n",
       "    </tr>\n",
       "    <tr>\n",
       "      <th>1998-02-05</th>\n",
       "      <td>-0.006568</td>\n",
       "      <td>-1</td>\n",
       "      <td>2</td>\n",
       "      <td>0.006568</td>\n",
       "    </tr>\n",
       "    <tr>\n",
       "      <th>1998-02-06</th>\n",
       "      <td>0.000050</td>\n",
       "      <td>0</td>\n",
       "      <td>6</td>\n",
       "      <td>0.000000</td>\n",
       "    </tr>\n",
       "    <tr>\n",
       "      <th>1998-02-09</th>\n",
       "      <td>-0.008998</td>\n",
       "      <td>-1</td>\n",
       "      <td>2</td>\n",
       "      <td>0.008998</td>\n",
       "    </tr>\n",
       "    <tr>\n",
       "      <th>1998-02-10</th>\n",
       "      <td>-0.002157</td>\n",
       "      <td>0</td>\n",
       "      <td>4</td>\n",
       "      <td>-0.000000</td>\n",
       "    </tr>\n",
       "    <tr>\n",
       "      <th>1998-02-11</th>\n",
       "      <td>-0.003066</td>\n",
       "      <td>0</td>\n",
       "      <td>4</td>\n",
       "      <td>-0.000000</td>\n",
       "    </tr>\n",
       "    <tr>\n",
       "      <th>1998-02-12</th>\n",
       "      <td>0.000292</td>\n",
       "      <td>0</td>\n",
       "      <td>6</td>\n",
       "      <td>0.000000</td>\n",
       "    </tr>\n",
       "    <tr>\n",
       "      <th>1998-02-13</th>\n",
       "      <td>0.001665</td>\n",
       "      <td>0</td>\n",
       "      <td>6</td>\n",
       "      <td>0.000000</td>\n",
       "    </tr>\n",
       "    <tr>\n",
       "      <th>...</th>\n",
       "      <td>...</td>\n",
       "      <td>...</td>\n",
       "      <td>...</td>\n",
       "      <td>...</td>\n",
       "    </tr>\n",
       "    <tr>\n",
       "      <th>2013-05-22</th>\n",
       "      <td>0.001382</td>\n",
       "      <td>0</td>\n",
       "      <td>6</td>\n",
       "      <td>0.000000</td>\n",
       "    </tr>\n",
       "    <tr>\n",
       "      <th>2013-05-23</th>\n",
       "      <td>0.002729</td>\n",
       "      <td>0</td>\n",
       "      <td>7</td>\n",
       "      <td>0.000000</td>\n",
       "    </tr>\n",
       "    <tr>\n",
       "      <th>2013-05-24</th>\n",
       "      <td>-0.008017</td>\n",
       "      <td>-1</td>\n",
       "      <td>2</td>\n",
       "      <td>0.008017</td>\n",
       "    </tr>\n",
       "    <tr>\n",
       "      <th>2013-05-28</th>\n",
       "      <td>0.007752</td>\n",
       "      <td>1</td>\n",
       "      <td>8</td>\n",
       "      <td>0.007752</td>\n",
       "    </tr>\n",
       "    <tr>\n",
       "      <th>2013-05-29</th>\n",
       "      <td>-0.003864</td>\n",
       "      <td>0</td>\n",
       "      <td>4</td>\n",
       "      <td>-0.000000</td>\n",
       "    </tr>\n",
       "    <tr>\n",
       "      <th>2013-05-30</th>\n",
       "      <td>0.012106</td>\n",
       "      <td>1</td>\n",
       "      <td>9</td>\n",
       "      <td>0.012106</td>\n",
       "    </tr>\n",
       "    <tr>\n",
       "      <th>2013-05-31</th>\n",
       "      <td>-0.001223</td>\n",
       "      <td>0</td>\n",
       "      <td>5</td>\n",
       "      <td>-0.000000</td>\n",
       "    </tr>\n",
       "    <tr>\n",
       "      <th>2013-06-03</th>\n",
       "      <td>0.004919</td>\n",
       "      <td>1</td>\n",
       "      <td>8</td>\n",
       "      <td>0.004919</td>\n",
       "    </tr>\n",
       "    <tr>\n",
       "      <th>2013-06-04</th>\n",
       "      <td>0.014113</td>\n",
       "      <td>1</td>\n",
       "      <td>9</td>\n",
       "      <td>0.014113</td>\n",
       "    </tr>\n",
       "    <tr>\n",
       "      <th>2013-06-05</th>\n",
       "      <td>-0.008522</td>\n",
       "      <td>-1</td>\n",
       "      <td>2</td>\n",
       "      <td>0.008522</td>\n",
       "    </tr>\n",
       "    <tr>\n",
       "      <th>2013-06-06</th>\n",
       "      <td>-0.014675</td>\n",
       "      <td>-1</td>\n",
       "      <td>0</td>\n",
       "      <td>0.014675</td>\n",
       "    </tr>\n",
       "    <tr>\n",
       "      <th>2013-06-07</th>\n",
       "      <td>0.001853</td>\n",
       "      <td>0</td>\n",
       "      <td>6</td>\n",
       "      <td>0.000000</td>\n",
       "    </tr>\n",
       "    <tr>\n",
       "      <th>2013-06-10</th>\n",
       "      <td>0.010318</td>\n",
       "      <td>1</td>\n",
       "      <td>9</td>\n",
       "      <td>0.010318</td>\n",
       "    </tr>\n",
       "    <tr>\n",
       "      <th>2013-06-11</th>\n",
       "      <td>0.008233</td>\n",
       "      <td>1</td>\n",
       "      <td>8</td>\n",
       "      <td>0.008233</td>\n",
       "    </tr>\n",
       "    <tr>\n",
       "      <th>2013-06-12</th>\n",
       "      <td>-0.018200</td>\n",
       "      <td>-1</td>\n",
       "      <td>0</td>\n",
       "      <td>0.018200</td>\n",
       "    </tr>\n",
       "    <tr>\n",
       "      <th>2013-06-13</th>\n",
       "      <td>0.005591</td>\n",
       "      <td>1</td>\n",
       "      <td>8</td>\n",
       "      <td>0.005591</td>\n",
       "    </tr>\n",
       "    <tr>\n",
       "      <th>2013-06-14</th>\n",
       "      <td>-0.007812</td>\n",
       "      <td>-1</td>\n",
       "      <td>2</td>\n",
       "      <td>0.007812</td>\n",
       "    </tr>\n",
       "    <tr>\n",
       "      <th>2013-06-17</th>\n",
       "      <td>-0.007354</td>\n",
       "      <td>-1</td>\n",
       "      <td>2</td>\n",
       "      <td>0.007354</td>\n",
       "    </tr>\n",
       "    <tr>\n",
       "      <th>2013-06-18</th>\n",
       "      <td>0.013241</td>\n",
       "      <td>1</td>\n",
       "      <td>9</td>\n",
       "      <td>0.013241</td>\n",
       "    </tr>\n",
       "    <tr>\n",
       "      <th>2013-06-19</th>\n",
       "      <td>0.025786</td>\n",
       "      <td>1</td>\n",
       "      <td>10</td>\n",
       "      <td>0.025786</td>\n",
       "    </tr>\n",
       "    <tr>\n",
       "      <th>2013-06-20</th>\n",
       "      <td>-0.002306</td>\n",
       "      <td>0</td>\n",
       "      <td>4</td>\n",
       "      <td>-0.000000</td>\n",
       "    </tr>\n",
       "    <tr>\n",
       "      <th>2013-06-21</th>\n",
       "      <td>0.011943</td>\n",
       "      <td>1</td>\n",
       "      <td>9</td>\n",
       "      <td>0.011943</td>\n",
       "    </tr>\n",
       "    <tr>\n",
       "      <th>2013-06-24</th>\n",
       "      <td>-0.011590</td>\n",
       "      <td>-1</td>\n",
       "      <td>1</td>\n",
       "      <td>0.011590</td>\n",
       "    </tr>\n",
       "    <tr>\n",
       "      <th>2013-06-25</th>\n",
       "      <td>-0.009281</td>\n",
       "      <td>-1</td>\n",
       "      <td>2</td>\n",
       "      <td>0.009281</td>\n",
       "    </tr>\n",
       "    <tr>\n",
       "      <th>2013-06-26</th>\n",
       "      <td>-0.008712</td>\n",
       "      <td>-1</td>\n",
       "      <td>2</td>\n",
       "      <td>0.008712</td>\n",
       "    </tr>\n",
       "    <tr>\n",
       "      <th>2013-06-27</th>\n",
       "      <td>0.001504</td>\n",
       "      <td>0</td>\n",
       "      <td>6</td>\n",
       "      <td>0.000000</td>\n",
       "    </tr>\n",
       "    <tr>\n",
       "      <th>2013-06-28</th>\n",
       "      <td>-0.004822</td>\n",
       "      <td>-1</td>\n",
       "      <td>3</td>\n",
       "      <td>0.004822</td>\n",
       "    </tr>\n",
       "    <tr>\n",
       "      <th>2013-07-01</th>\n",
       "      <td>0.001017</td>\n",
       "      <td>0</td>\n",
       "      <td>6</td>\n",
       "      <td>0.000000</td>\n",
       "    </tr>\n",
       "    <tr>\n",
       "      <th>2013-07-02</th>\n",
       "      <td>0.001468</td>\n",
       "      <td>0</td>\n",
       "      <td>6</td>\n",
       "      <td>0.000000</td>\n",
       "    </tr>\n",
       "    <tr>\n",
       "      <th>2013-07-03</th>\n",
       "      <td>-0.010142</td>\n",
       "      <td>-1</td>\n",
       "      <td>1</td>\n",
       "      <td>0.010142</td>\n",
       "    </tr>\n",
       "  </tbody>\n",
       "</table>\n",
       "<p>3900 rows × 4 columns</p>\n",
       "</div>"
      ],
      "text/plain": [
       "              return  class multi_class  max_return\n",
       "1998-01-02 -0.000101      0           6   -0.000000\n",
       "1998-01-05  0.008144      1           8    0.008144\n",
       "1998-01-06  0.005501      1           8    0.005501\n",
       "1998-01-07  0.006905      1           8    0.006905\n",
       "1998-01-08  0.031674      1          10    0.031674\n",
       "1998-01-09 -0.002883      0           4   -0.000000\n",
       "1998-01-12 -0.017040     -1           0    0.017040\n",
       "1998-01-13 -0.007591     -1           2    0.007591\n",
       "1998-01-14  0.004450      1           7    0.004450\n",
       "1998-01-15 -0.009007     -1           2    0.009007\n",
       "1998-01-16 -0.016143     -1           0    0.016143\n",
       "1998-01-20  0.005261      1           8    0.005261\n",
       "1998-01-21  0.011348      1           9    0.011348\n",
       "1998-01-22  0.006010      1           8    0.006010\n",
       "1998-01-23  0.001350      0           6    0.000000\n",
       "1998-01-26 -0.006524     -1           2    0.006524\n",
       "1998-01-27 -0.012866     -1           1    0.012866\n",
       "1998-01-28 -0.008553     -1           2    0.008553\n",
       "1998-01-29  0.002832      0           7    0.000000\n",
       "1998-01-30 -0.019022     -1           0    0.019022\n",
       "1998-02-02 -0.007555     -1           2    0.007555\n",
       "1998-02-03 -0.004857     -1           3    0.004857\n",
       "1998-02-04 -0.000357      0           5   -0.000000\n",
       "1998-02-05 -0.006568     -1           2    0.006568\n",
       "1998-02-06  0.000050      0           6    0.000000\n",
       "1998-02-09 -0.008998     -1           2    0.008998\n",
       "1998-02-10 -0.002157      0           4   -0.000000\n",
       "1998-02-11 -0.003066      0           4   -0.000000\n",
       "1998-02-12  0.000292      0           6    0.000000\n",
       "1998-02-13  0.001665      0           6    0.000000\n",
       "...              ...    ...         ...         ...\n",
       "2013-05-22  0.001382      0           6    0.000000\n",
       "2013-05-23  0.002729      0           7    0.000000\n",
       "2013-05-24 -0.008017     -1           2    0.008017\n",
       "2013-05-28  0.007752      1           8    0.007752\n",
       "2013-05-29 -0.003864      0           4   -0.000000\n",
       "2013-05-30  0.012106      1           9    0.012106\n",
       "2013-05-31 -0.001223      0           5   -0.000000\n",
       "2013-06-03  0.004919      1           8    0.004919\n",
       "2013-06-04  0.014113      1           9    0.014113\n",
       "2013-06-05 -0.008522     -1           2    0.008522\n",
       "2013-06-06 -0.014675     -1           0    0.014675\n",
       "2013-06-07  0.001853      0           6    0.000000\n",
       "2013-06-10  0.010318      1           9    0.010318\n",
       "2013-06-11  0.008233      1           8    0.008233\n",
       "2013-06-12 -0.018200     -1           0    0.018200\n",
       "2013-06-13  0.005591      1           8    0.005591\n",
       "2013-06-14 -0.007812     -1           2    0.007812\n",
       "2013-06-17 -0.007354     -1           2    0.007354\n",
       "2013-06-18  0.013241      1           9    0.013241\n",
       "2013-06-19  0.025786      1          10    0.025786\n",
       "2013-06-20 -0.002306      0           4   -0.000000\n",
       "2013-06-21  0.011943      1           9    0.011943\n",
       "2013-06-24 -0.011590     -1           1    0.011590\n",
       "2013-06-25 -0.009281     -1           2    0.009281\n",
       "2013-06-26 -0.008712     -1           2    0.008712\n",
       "2013-06-27  0.001504      0           6    0.000000\n",
       "2013-06-28 -0.004822     -1           3    0.004822\n",
       "2013-07-01  0.001017      0           6    0.000000\n",
       "2013-07-02  0.001468      0           6    0.000000\n",
       "2013-07-03 -0.010142     -1           1    0.010142\n",
       "\n",
       "[3900 rows x 4 columns]"
      ]
     },
     "execution_count": 34,
     "metadata": {},
     "output_type": "execute_result"
    }
   ],
   "source": [
    "Labeled"
   ]
  },
  {
   "cell_type": "code",
   "execution_count": 35,
   "metadata": {},
   "outputs": [
    {
     "data": {
      "text/plain": [
       "3900"
      ]
     },
     "execution_count": 35,
     "metadata": {},
     "output_type": "execute_result"
    }
   ],
   "source": [
    "len(Labeled)"
   ]
  },
  {
   "cell_type": "code",
   "execution_count": 36,
   "metadata": {
    "scrolled": false
   },
   "outputs": [
    {
     "data": {
      "text/plain": [
       "array([<matplotlib.axes._subplots.AxesSubplot object at 0x7f87ca432780>,\n",
       "       <matplotlib.axes._subplots.AxesSubplot object at 0x7f87ca360588>], dtype=object)"
      ]
     },
     "execution_count": 36,
     "metadata": {},
     "output_type": "execute_result"
    },
    {
     "data": {
      "image/png": "[encoded data removed]",
      "text/plain": [
       "<matplotlib.figure.Figure at 0x7f87d0718eb8>"
      ]
     },
     "metadata": {},
     "output_type": "display_data"
    }
   ],
   "source": [
    "Labeled[['return','max_return']].cumsum().plot(subplots=True)"
   ]
  },
  {
   "cell_type": "markdown",
   "metadata": {},
   "source": [
    "# Making a baseline"
   ]
  },
  {
   "cell_type": "code",
   "execution_count": 37,
   "metadata": {
    "collapsed": true,
    "scrolled": false
   },
   "outputs": [],
   "source": [
    "from sklearn import linear_model\n",
    "from sklearn.metrics import classification_report,confusion_matrix"
   ]
  },
  {
   "cell_type": "code",
   "execution_count": 38,
   "metadata": {
    "collapsed": true,
    "scrolled": false
   },
   "outputs": [],
   "source": [
    "logreg = linear_model.LogisticRegression(C=1e5)"
   ]
  },
  {
   "cell_type": "code",
   "execution_count": 39,
   "metadata": {
    "collapsed": true,
    "scrolled": false
   },
   "outputs": [],
   "source": [
    "test_size=600"
   ]
  },
  {
   "cell_type": "code",
   "execution_count": 40,
   "metadata": {
    "collapsed": true,
    "scrolled": false
   },
   "outputs": [],
   "source": [
    "from sklearn.metrics import classification_report,confusion_matrix\n"
   ]
  },
  {
   "cell_type": "markdown",
   "metadata": {},
   "source": [
    "## Baseline Fully Connected Feed Forward Neural Network\n",
    "Baseline feed forward network for benchmark."
   ]
  },
  {
   "cell_type": "code",
   "execution_count": 41,
   "metadata": {
    "collapsed": true,
    "scrolled": false
   },
   "outputs": [],
   "source": [
    "import tensorflow as tf\n",
    "from  tensorflow.contrib.learn.python.learn.estimators.dnn  import DNNClassifier\n",
    "from tensorflow.contrib.layers import real_valued_column"
   ]
  },
  {
   "cell_type": "code",
   "execution_count": 42,
   "metadata": {
    "collapsed": true,
    "scrolled": false
   },
   "outputs": [],
   "source": [
    "test_size=600"
   ]
  },
  {
   "cell_type": "code",
   "execution_count": 43,
   "metadata": {
    "collapsed": true,
    "scrolled": false
   },
   "outputs": [],
   "source": [
    "Labeled['tf_class'] = Labeled['multi_class']\n",
    "num_features = len(InputDF.columns)\n",
    "dropout=0.2\n",
    "hidden_1_size = 1000\n",
    "hidden_2_size = 250\n",
    "logpath2 = '/tmp/fc_logs/example'\n",
    "num_classes = Labeled.tf_class.nunique()\n",
    "#NUM_EPOCHS=200 Just speeding up\n",
    "NUM_EPOCHS=100\n",
    "BATCH_SIZE=50\n",
    "learning_rate=0.0001"
   ]
  },
  {
   "cell_type": "code",
   "execution_count": 44,
   "metadata": {
    "collapsed": true,
    "scrolled": false
   },
   "outputs": [],
   "source": [
    "train = (InputDF[:-test_size].values,Labeled.tf_class[:-test_size].values)\n",
    "val = (InputDF[-test_size:].values,Labeled.tf_class[-test_size:].values)\n",
    "NUM_TRAIN_BATCHES = int(len(train[0])/BATCH_SIZE)\n",
    "NUM_VAL_BATCHES = int(len(val[1])/BATCH_SIZE)"
   ]
  },
  {
   "cell_type": "code",
   "execution_count": 45,
   "metadata": {
    "scrolled": false
   },
   "outputs": [
    {
     "data": {
      "text/plain": [
       "3900"
      ]
     },
     "execution_count": 45,
     "metadata": {},
     "output_type": "execute_result"
    }
   ],
   "source": [
    "len(InputDF)"
   ]
  },
  {
   "cell_type": "code",
   "execution_count": 46,
   "metadata": {
    "collapsed": true,
    "scrolled": false
   },
   "outputs": [],
   "source": [
    "class Model():\n",
    "    def __init__(self):\n",
    "        global_step = tf.contrib.framework.get_or_create_global_step()\n",
    "        self.input_data = tf.placeholder(dtype=tf.float32,shape=[None,num_features])\n",
    "        self.target_data = tf.placeholder(dtype=tf.int32,shape=[None])\n",
    "        self.dropout_prob = tf.placeholder(dtype=tf.float32,shape=[])\n",
    "        self.summaries = tf.summary.merge_all()\n",
    "        with tf.variable_scope(\"ff\"):\n",
    "            droped_input = tf.nn.dropout(self.input_data,keep_prob=self.dropout_prob)\n",
    "            \n",
    "            layer_1 = tf.contrib.layers.fully_connected(\n",
    "                num_outputs=hidden_1_size,\n",
    "                inputs=droped_input,\n",
    "            )\n",
    "            layer_2 = tf.contrib.layers.fully_connected(\n",
    "                num_outputs=hidden_2_size,\n",
    "                inputs=layer_1,\n",
    "            )\n",
    "            self.logits = tf.contrib.layers.fully_connected(\n",
    "                num_outputs=num_classes,\n",
    "                activation_fn =None,\n",
    "                inputs=layer_2,\n",
    "            )\n",
    "        with tf.variable_scope(\"loss\"):\n",
    "            \n",
    "            self.losses = tf.nn.sparse_softmax_cross_entropy_with_logits(logits=self.logits,labels=self.target_data)\n",
    "            mask = (1-tf.sign(1-self.target_data)) #No credit for flat days\n",
    "            mask = tf.cast(mask,tf.float32)\n",
    "            self.loss = tf.reduce_sum(self.losses)\n",
    "        \n",
    "        with tf.name_scope(\"train\"):\n",
    "          opt = tf.train.AdamOptimizer(learning_rate)\n",
    "          gvs = opt.compute_gradients(self.loss)\n",
    "          self.train_op = opt.apply_gradients(gvs, global_step=global_step)\n",
    "        \n",
    "        with tf.name_scope(\"predictions\"):\n",
    "            self.probs = tf.nn.softmax(self.logits)\n",
    "            self.predictions = tf.argmax(self.probs, 1)\n",
    "            correct_pred = tf.cast(tf.equal(self.predictions, tf.cast(self.target_data,tf.int64)),tf.float64)\n",
    "            self.accuracy = tf.reduce_mean(correct_pred)"
   ]
  },
  {
   "cell_type": "code",
   "execution_count": 47,
   "metadata": {
    "collapsed": true
   },
   "outputs": [],
   "source": [
    "tb_writer = tf.summary.FileWriter(logpath2)"
   ]
  },
  {
   "cell_type": "code",
   "execution_count": 48,
   "metadata": {
    "collapsed": true
   },
   "outputs": [],
   "source": [
    "if tf.gfile.Exists(logpath2):\n",
    "   tf.gfile.DeleteRecursively(logpath2) "
   ]
  },
  {
   "cell_type": "code",
   "execution_count": 49,
   "metadata": {
    "scrolled": false
   },
   "outputs": [
    {
     "name": "stdout",
     "output_type": "stream",
     "text": [
      "WARNING:tensorflow:From <ipython-input-49-49e7fe1d783e>:11: initialize_all_variables (from tensorflow.python.ops.variables) is deprecated and will be removed after 2017-03-02.\n",
      "Instructions for updating:\n",
      "Use `tf.global_variables_initializer` instead.\n",
      "step - 66 loss - 8476.85726928711 accr - 0.26\n",
      "step - 132 loss - 6955.656211853027 accr - 0.2\n",
      "step - 198 loss - 5977.432769775391 accr - 0.26\n",
      "step - 264 loss - 5110.788524627686 accr - 0.4\n",
      "step - 330 loss - 4245.8157024383545 accr - 0.68\n",
      "step - 396 loss - 3607.078588485718 accr - 0.74\n",
      "step - 462 loss - 3002.383544921875 accr - 0.8\n",
      "step - 528 loss - 2545.9910039901733 accr - 0.82\n",
      "step - 594 loss - 2186.544906616211 accr - 0.9\n",
      "step - 660 loss - 1765.569980621338 accr - 0.86\n",
      "step - 726 loss - 1636.0608968734741 accr - 0.92\n",
      "step - 792 loss - 1484.5583610534668 accr - 0.88\n",
      "step - 858 loss - 1364.3384790420532 accr - 0.72\n",
      "step - 924 loss - 1345.0335240364075 accr - 0.88\n",
      "step - 990 loss - 1055.7422652244568 accr - 0.94\n",
      "step - 1056 loss - 898.1392440795898 accr - 0.86\n",
      "step - 1122 loss - 685.99458360672 accr - 0.92\n",
      "step - 1188 loss - 549.8827750682831 accr - 0.94\n",
      "step - 1254 loss - 454.62357687950134 accr - 0.92\n",
      "step - 1320 loss - 395.6857932806015 accr - 0.96\n",
      "step - 1386 loss - 341.3021819591522 accr - 0.94\n",
      "step - 1452 loss - 308.39223194122314 accr - 0.98\n",
      "step - 1518 loss - 249.54367098212242 accr - 0.94\n",
      "step - 1584 loss - 225.93377578258514 accr - 0.96\n",
      "step - 1650 loss - 219.61940878629684 accr - 1.0\n",
      "step - 1716 loss - 199.0495092868805 accr - 1.0\n",
      "step - 1782 loss - 165.52649900317192 accr - 1.0\n",
      "step - 1848 loss - 144.46484792232513 accr - 0.98\n",
      "step - 1914 loss - 124.52791276574135 accr - 1.0\n",
      "step - 1980 loss - 113.99635702371597 accr - 1.0\n",
      "step - 2046 loss - 104.07442286610603 accr - 1.0\n",
      "step - 2112 loss - 93.1643833592534 accr - 1.0\n",
      "step - 2178 loss - 83.90173250436783 accr - 1.0\n",
      "step - 2244 loss - 75.42272339761257 accr - 1.0\n",
      "step - 2310 loss - 66.30829929560423 accr - 1.0\n",
      "step - 2376 loss - 62.693609081208706 accr - 1.0\n",
      "step - 2442 loss - 57.511074259877205 accr - 1.0\n",
      "step - 2508 loss - 47.96602101624012 accr - 1.0\n",
      "step - 2574 loss - 43.750628527253866 accr - 1.0\n",
      "step - 2640 loss - 40.626658007502556 accr - 1.0\n",
      "step - 2706 loss - 40.862501472234726 accr - 0.98\n",
      "step - 2772 loss - 36.453553944826126 accr - 1.0\n",
      "step - 2838 loss - 40.108197174966335 accr - 1.0\n",
      "step - 2904 loss - 32.8252830170095 accr - 1.0\n",
      "step - 2970 loss - 31.781498232856393 accr - 1.0\n",
      "step - 3036 loss - 29.16536554135382 accr - 1.0\n",
      "step - 3102 loss - 26.81434302404523 accr - 1.0\n",
      "step - 3168 loss - 26.31245904043317 accr - 1.0\n",
      "step - 3234 loss - 23.597407203167677 accr - 1.0\n",
      "step - 3300 loss - 23.54064904153347 accr - 1.0\n",
      "step - 3366 loss - 20.757203612476587 accr - 1.0\n",
      "step - 3432 loss - 20.403653709217906 accr - 1.0\n",
      "step - 3498 loss - 19.45376329123974 accr - 1.0\n",
      "step - 3564 loss - 18.737640742212534 accr - 1.0\n",
      "step - 3630 loss - 17.313241884112358 accr - 1.0\n",
      "step - 3696 loss - 16.359520316123962 accr - 1.0\n",
      "step - 3762 loss - 16.3890398144722 accr - 1.0\n",
      "step - 3828 loss - 17.54691051132977 accr - 1.0\n",
      "step - 3894 loss - 16.91192803159356 accr - 1.0\n",
      "step - 3960 loss - 19.25345172919333 accr - 1.0\n",
      "step - 4026 loss - 22.967422127723694 accr - 1.0\n",
      "step - 4092 loss - 21.353355914354324 accr - 1.0\n",
      "step - 4158 loss - 24.28590626269579 accr - 1.0\n",
      "step - 4224 loss - 14.716766377910972 accr - 1.0\n",
      "step - 4290 loss - 96.8187497407198 accr - 0.98\n",
      "step - 4356 loss - 363.2208235114813 accr - 0.96\n",
      "step - 4422 loss - 808.2296719551086 accr - 0.88\n",
      "step - 4488 loss - 1044.0656297206879 accr - 0.88\n",
      "step - 4554 loss - 1380.471583366394 accr - 0.82\n",
      "step - 4620 loss - 1312.5821695327759 accr - 0.84\n",
      "step - 4686 loss - 697.7750639915466 accr - 0.94\n",
      "step - 4752 loss - 305.68601059913635 accr - 1.0\n",
      "step - 4818 loss - 212.19604140520096 accr - 1.0\n",
      "step - 4884 loss - 97.63792329281569 accr - 0.96\n",
      "step - 4950 loss - 32.9873710013926 accr - 1.0\n",
      "step - 5016 loss - 22.23895899578929 accr - 1.0\n",
      "step - 5082 loss - 15.98843104019761 accr - 1.0\n",
      "step - 5148 loss - 14.92642168328166 accr - 1.0\n",
      "step - 5214 loss - 13.859583123587072 accr - 1.0\n",
      "step - 5280 loss - 11.590983875095844 accr - 1.0\n",
      "step - 5346 loss - 10.680404931306839 accr - 1.0\n",
      "step - 5412 loss - 10.47627243027091 accr - 1.0\n",
      "step - 5478 loss - 10.593862196896225 accr - 1.0\n",
      "step - 5544 loss - 9.822078425437212 accr - 1.0\n",
      "step - 5610 loss - 10.851491765119135 accr - 1.0\n",
      "step - 5676 loss - 8.054766088724136 accr - 1.0\n",
      "step - 5742 loss - 8.2694038040936 accr - 1.0\n",
      "step - 5808 loss - 7.437652374617755 accr - 1.0\n",
      "step - 5874 loss - 7.6057448741048574 accr - 1.0\n",
      "step - 5940 loss - 14.255520699545741 accr - 1.0\n",
      "step - 6006 loss - 13.055462911725044 accr - 1.0\n",
      "step - 6072 loss - 29.328807862475514 accr - 1.0\n",
      "step - 6138 loss - 29.727606911212206 accr - 1.0\n",
      "step - 6204 loss - 10.01085755508393 accr - 1.0\n",
      "step - 6270 loss - 7.216032577678561 accr - 1.0\n",
      "step - 6336 loss - 6.681037124246359 accr - 1.0\n",
      "step - 6402 loss - 5.639110388699919 accr - 1.0\n",
      "step - 6468 loss - 6.4367835177108645 accr - 1.0\n",
      "step - 6534 loss - 6.1414301516488194 accr - 1.0\n",
      "step - 6600 loss - 5.710682256147265 accr - 1.0\n",
      "done training\n",
      "0.1\n",
      "0.02\n",
      "0.2\n",
      "0.14\n",
      "0.1\n",
      "0.24\n",
      "0.1\n",
      "0.06\n",
      "0.12\n",
      "0.18\n",
      "0.12\n",
      "0.12\n",
      "Run the command line:\n",
      "\n",
      "--> tensorboard --logdir=/tmp/fc_logs --port=6008\n",
      "\n",
      "Then open http://0.0.0.0:6008/ into your web browser\n"
     ]
    }
   ],
   "source": [
    "with tf.Graph().as_default():\n",
    "    model = Model()\n",
    "    input_ = train[0]\n",
    "    target = train[1]\n",
    "\n",
    "    config = tf.ConfigProto()\n",
    "    jit_level = tf.OptimizerOptions.ON_1\n",
    "    config.graph_options.optimizer_options.global_jit_level = jit_level\n",
    "\n",
    "    with tf.Session(config=config) as sess:\n",
    "        init = tf.initialize_all_variables()\n",
    "        sess.run([init])\n",
    "        epoch_loss =0\n",
    "        summary_writer = tf.summary.FileWriter(logpath2, graph=tf.get_default_graph())\n",
    "        for e in range(NUM_EPOCHS):\n",
    "            if epoch_loss >0 and epoch_loss <1:\n",
    "                break\n",
    "            epoch_loss =0\n",
    "            for batch in range(0,NUM_TRAIN_BATCHES):\n",
    "                \n",
    "                start = batch*BATCH_SIZE\n",
    "                end = start + BATCH_SIZE \n",
    "                feed = {\n",
    "                    model.input_data:input_[start:end],\n",
    "                    model.target_data:target[start:end],\n",
    "                    model.dropout_prob:0.9\n",
    "                            }\n",
    "                \n",
    "                _,loss,acc = sess.run(\n",
    "                    [\n",
    "                        model.train_op,\n",
    "                        model.loss,\n",
    "                        model.accuracy,\n",
    "                    ]\n",
    "                    ,feed_dict=feed\n",
    "                )\n",
    "                epoch_loss+=loss\n",
    "            print('step - {0} loss - {1} accr - {2}'.format((1+batch+NUM_TRAIN_BATCHES*e),epoch_loss,acc))\n",
    "            # Write logs after every epoch\n",
    "            tb_loss = tf.Summary()\n",
    "            tb_loss.value.add(\n",
    "                tag='ep-loss', simple_value=epoch_loss)\n",
    "            tb_writer.add_summary(tb_loss, (e))\n",
    "            tb_acc = tf.Summary()\n",
    "            tb_acc.value.add(\n",
    "                tag='ep-accuracy', simple_value=acc)\n",
    "            tb_writer.add_summary(tb_acc, (e))\n",
    "            tb_writer.flush()\n",
    "                \n",
    "        \n",
    "        print('done training')\n",
    "        final_preds =np.array([])\n",
    "        final_probs =None\n",
    "        for batch in range(0,NUM_VAL_BATCHES):\n",
    "            \n",
    "                start = batch*BATCH_SIZE\n",
    "                end = start + BATCH_SIZE \n",
    "                feed = {\n",
    "                    model.input_data:val[0][start:end],\n",
    "                    model.target_data:val[1][start:end],\n",
    "                    model.dropout_prob:1\n",
    "                            }\n",
    "                \n",
    "                acc,preds,probs = sess.run(\n",
    "                    [\n",
    "                        model.accuracy,\n",
    "                        model.predictions,\n",
    "                        model.probs\n",
    "                    ]\n",
    "                    ,feed_dict=feed\n",
    "                )\n",
    "                print(acc)\n",
    "                final_preds = np.concatenate((final_preds,preds),axis=0)\n",
    "                if final_probs is None:\n",
    "                    final_probs = probs\n",
    "                else:\n",
    "                    final_probs = np.concatenate((final_probs,probs),axis=0)\n",
    "                tb_acc = tf.Summary()\n",
    "                tb_acc.value.add(\n",
    "                    tag='test_accuracy', simple_value=acc)\n",
    "                tb_writer.add_summary(tb_acc, batch)\n",
    "                tb_writer.flush()\n",
    "\n",
    "        prediction_conf = final_probs[np.argmax(final_probs,1)]\n",
    "        \n",
    "        print (\"Run the command line:\\n\")\n",
    "        print(\"--> tensorboard --logdir=/tmp/fc_logs --port=6008\")\n",
    "        print(\"\\nThen open http://0.0.0.0:6008/ into your web browser\")"
   ]
  },
  {
   "cell_type": "code",
   "execution_count": 50,
   "metadata": {
    "collapsed": true,
    "scrolled": false
   },
   "outputs": [],
   "source": [
    "Result = Labeled[-test_size:].copy()"
   ]
  },
  {
   "cell_type": "code",
   "execution_count": 51,
   "metadata": {
    "collapsed": true,
    "scrolled": false
   },
   "outputs": [],
   "source": [
    "Result['nn_pred'] = final_preds\n",
    "Result['mod_nn_prod'] = list(map(lambda x: -1 if x <5 else 0 if x==5 else 1,final_preds))\n",
    "Result['nn_ret'] = Result.mod_nn_prod*Result['return']"
   ]
  },
  {
   "cell_type": "code",
   "execution_count": 52,
   "metadata": {
    "scrolled": false
   },
   "outputs": [
    {
     "data": {
      "text/plain": [
       "<matplotlib.axes._subplots.AxesSubplot at 0x7f878be415c0>"
      ]
     },
     "execution_count": 52,
     "metadata": {},
     "output_type": "execute_result"
    },
    {
     "data": {
      "image/png": "[encoded data removed]",
      "text/plain": [
       "<matplotlib.figure.Figure at 0x7f878be21588>"
      ]
     },
     "metadata": {},
     "output_type": "display_data"
    }
   ],
   "source": [
    "Res = (1+Result[-test_size:][['return','max_return','nn_ret']]).cumprod()\n",
    "Res[0] =0\n",
    "Res.plot(secondary_y='max_return')"
   ]
  },
  {
   "cell_type": "code",
   "execution_count": 53,
   "metadata": {
    "scrolled": false
   },
   "outputs": [
    {
     "name": "stdout",
     "output_type": "stream",
     "text": [
      "[[ 73  31  99]\n",
      " [ 59  32 109]\n",
      " [ 76  19 102]]\n",
      "             precision    recall  f1-score   support\n",
      "\n",
      "         -1       0.35      0.36      0.36       203\n",
      "          0       0.39      0.16      0.23       200\n",
      "          1       0.33      0.52      0.40       197\n",
      "\n",
      "avg / total       0.36      0.34      0.33       600\n",
      "\n"
     ]
    }
   ],
   "source": [
    "print(confusion_matrix(Result['class'],Result['mod_nn_prod']))\n",
    "print(classification_report(Result['class'],Result['mod_nn_prod']))"
   ]
  },
  {
   "cell_type": "code",
   "execution_count": 54,
   "metadata": {
    "scrolled": false
   },
   "outputs": [
    {
     "data": {
      "text/plain": [
       "<matplotlib.axes._subplots.AxesSubplot at 0x7f87705452e8>"
      ]
     },
     "execution_count": 54,
     "metadata": {},
     "output_type": "execute_result"
    },
    {
     "data": {
      "image/png": "[encoded data removed]",
      "text/plain": [
       "<matplotlib.figure.Figure at 0x7f877054ec18>"
      ]
     },
     "metadata": {},
     "output_type": "display_data"
    }
   ],
   "source": [
    "cm = pd.DataFrame(confusion_matrix(Result['multi_class'],Result['nn_pred']))\n",
    "#sns.heatmap(cm.div(cm.sum(1)))\n",
    "Result[Result.multi_class==6]['nn_pred'].hist()"
   ]
  },
  {
   "cell_type": "code",
   "execution_count": 55,
   "metadata": {
    "scrolled": false
   },
   "outputs": [
    {
     "name": "stdout",
     "output_type": "stream",
     "text": [
      "             precision    recall  f1-score   support\n",
      "\n",
      "          0       0.36      0.15      0.22        52\n",
      "          1       0.12      0.10      0.11        50\n",
      "          2       0.13      0.18      0.15        60\n",
      "          3       0.18      0.05      0.08        62\n",
      "          4       0.15      0.12      0.13        50\n",
      "          5       0.07      0.12      0.09        51\n",
      "          6       0.13      0.37      0.20        60\n",
      "          7       0.00      0.00      0.00        53\n",
      "          8       0.08      0.09      0.09        54\n",
      "          9       0.08      0.02      0.03        56\n",
      "         10       0.18      0.15      0.17        52\n",
      "\n",
      "avg / total       0.14      0.12      0.11       600\n",
      "\n"
     ]
    }
   ],
   "source": [
    "print(classification_report(Result['multi_class'],Result['nn_pred']))"
   ]
  },
  {
   "cell_type": "code",
   "execution_count": 56,
   "metadata": {
    "scrolled": false
   },
   "outputs": [
    {
     "data": {
      "text/plain": [
       "array([[<matplotlib.axes._subplots.AxesSubplot object at 0x7f87705057b8>,\n",
       "        <matplotlib.axes._subplots.AxesSubplot object at 0x7f87703c6eb8>,\n",
       "        <matplotlib.axes._subplots.AxesSubplot object at 0x7f8770533b70>],\n",
       "       [<matplotlib.axes._subplots.AxesSubplot object at 0x7f877030e7b8>,\n",
       "        <matplotlib.axes._subplots.AxesSubplot object at 0x7f87702ef828>,\n",
       "        <matplotlib.axes._subplots.AxesSubplot object at 0x7f87702ef860>],\n",
       "       [<matplotlib.axes._subplots.AxesSubplot object at 0x7f87701cacf8>,\n",
       "        <matplotlib.axes._subplots.AxesSubplot object at 0x7f877018e240>,\n",
       "        <matplotlib.axes._subplots.AxesSubplot object at 0x7f8770119438>],\n",
       "       [<matplotlib.axes._subplots.AxesSubplot object at 0x7f877012a588>,\n",
       "        <matplotlib.axes._subplots.AxesSubplot object at 0x7f8770068048>,\n",
       "        <matplotlib.axes._subplots.AxesSubplot object at 0x7f876a1835f8>]], dtype=object)"
      ]
     },
     "execution_count": 56,
     "metadata": {},
     "output_type": "execute_result"
    },
    {
     "data": {
      "image/png": "[encoded data removed]",
      "text/plain": [
       "<matplotlib.figure.Figure at 0x7f8770497cf8>"
      ]
     },
     "metadata": {},
     "output_type": "display_data"
    }
   ],
   "source": [
    "Result.hist(by='multi_class',column='return',sharex=True)"
   ]
  },
  {
   "cell_type": "markdown",
   "metadata": {},
   "source": [
    "# Attention Recurrent Neural Network with MultiRNNCell LSTMs\n",
    "In this section we'll make an rnn model that learns to take the past into account as well\n",
    "This model is based on AttentionCellWrapper a novel approach described in the following publication https://arxiv.org/pdf/1409.0473v7.pdf titled \"NEURAL MACHINE TRANSLATION BY JOINTLY LEARNING TO ALIGN AND TRANSLATE\"\n"
   ]
  },
  {
   "cell_type": "markdown",
   "metadata": {},
   "source": [
    "## Defining an rnn Network"
   ]
  },
  {
   "cell_type": "code",
   "execution_count": 72,
   "metadata": {
    "collapsed": true,
    "scrolled": false
   },
   "outputs": [],
   "source": [
    "from tensorflow.contrib.layers.python.layers.initializers import xavier_initializer\n",
    "\n",
    "# Parameters\n",
    "learning_rate = 0.0007\n",
    "display_step = 1\n",
    "logpath = '/tmp/rnn_logs/example'\n",
    "rnn_num_units=100\n",
    "multirnn_num_cells=2\n",
    "attn_win_size=30\n",
    "first_layer_size=1000\n",
    "batch_size=50\n",
    "num_of_train_batches = int(len(train[0])/batch_size)\n",
    "num_of_test_batches = int(len(val[1])/batch_size)\n",
    "#NUM_EPOCHS=200\n",
    "NUM_EPOCHS=20\n",
    "beta=0"
   ]
  },
  {
   "cell_type": "code",
   "execution_count": null,
   "metadata": {
    "collapsed": true,
    "scrolled": false
   },
   "outputs": [],
   "source": []
  },
  {
   "cell_type": "code",
   "execution_count": 73,
   "metadata": {
    "collapsed": true,
    "scrolled": false
   },
   "outputs": [],
   "source": [
    "class RNNModel():\n",
    "    def __init__(self):\n",
    "        global_step = tf.contrib.framework.get_or_create_global_step()\n",
    "        self.input_data = tf.placeholder(dtype=tf.float32,shape=[batch_size,num_features], name='InputData')\n",
    "        self.target_data = tf.placeholder(dtype=tf.int32,shape=[batch_size], name='LabelData')\n",
    "        self.dropout_prob = tf.placeholder(dtype=tf.float32,shape=[], name='DropoutData')\n",
    "        self.summaries = tf.summary.merge_all()\n",
    "       \n",
    "        def lstm_cell():\n",
    "            return tf.contrib.rnn.BasicLSTMCell(rnn_num_units, forget_bias=0.0, state_is_tuple=False,\n",
    "            reuse=tf.get_variable_scope().reuse)\n",
    "\n",
    "        \n",
    "        def makeGRUCells():\n",
    "            at_cell = lstm_cell\n",
    "            stacked_cell = tf.contrib.rnn.MultiRNNCell([at_cell() for _ in range(multirnn_num_cells)], state_is_tuple=False)\n",
    "            attn_cell =tf.contrib.rnn.AttentionCellWrapper(cell=stacked_cell,attn_length=attn_win_size,state_is_tuple=False)\n",
    "            return attn_cell\n",
    "        \n",
    "        self.gru_cell = makeGRUCells()\n",
    "        self.zero_state = self.gru_cell.zero_state(1, tf.float32)\n",
    "        self.start_state = tf.placeholder(dtype=tf.float32,shape=[1,self.gru_cell.state_size], name='StateData')\n",
    "\n",
    "        with tf.variable_scope(\"feedfor\",initializer=xavier_initializer(uniform=False)):\n",
    "            droped_input = tf.nn.dropout(self.input_data,keep_prob=self.dropout_prob)\n",
    "            \n",
    "            layer_1 = tf.contrib.layers.fully_connected(\n",
    "                num_outputs=first_layer_size,\n",
    "                inputs=droped_input,\n",
    "                \n",
    "            )\n",
    "            layer_2 = tf.contrib.layers.fully_connected(\n",
    "                num_outputs=rnn_num_units,\n",
    "                inputs=layer_1,\n",
    "            )\n",
    "        \n",
    "        split_inputs = tf.reshape(droped_input,shape=[1,batch_size,num_features],name=\"reshape_l1\") # Each item in the batch is a time step, iterate through them\n",
    "        split_inputs = tf.unstack(split_inputs,axis=1,name=\"unstack\")\n",
    "        states =[]\n",
    "        outputs =[]\n",
    "        with tf.variable_scope(\"rnn\",initializer=xavier_initializer(uniform=False)) as scope:\n",
    "            state = self.start_state\n",
    "            for i, inp in enumerate(split_inputs):\n",
    "                if i >0:\n",
    "                    scope.reuse_variables()\n",
    "                \n",
    "                output, state = self.gru_cell(inp, state)\n",
    "                states.append(state)\n",
    "                outputs.append(output)\n",
    "        self.end_state = states[-1]\n",
    "        outputs = tf.stack(outputs,axis=1) # Pack them back into a single tensor\n",
    "        outputs = tf.reshape(outputs,shape=[batch_size,rnn_num_units])\n",
    "        self.logits = tf.contrib.layers.fully_connected(\n",
    "            num_outputs=num_classes,\n",
    "            inputs=outputs,\n",
    "            activation_fn=None\n",
    "        )\n",
    "            \n",
    "        with tf.variable_scope(\"loss\"):\n",
    "            self.penalties =    tf.reduce_sum([beta*tf.nn.l2_loss(var) for var in tf.trainable_variables()])\n",
    "            self.losses = tf.nn.sparse_softmax_cross_entropy_with_logits(labels=self.target_data, logits=self.logits)\n",
    "            self.loss = tf.reduce_sum(self.losses + beta*self.penalties)\n",
    "            tf.summary.scalar('mloss', self.loss)\n",
    "        \n",
    "        with tf.name_scope(\"train_step\"):\n",
    "            opt = tf.train.AdamOptimizer(learning_rate)\n",
    "            gvs = opt.compute_gradients(self.loss)\n",
    "            self.train_op = opt.apply_gradients(gvs, global_step=global_step)\n",
    "        \n",
    "        with tf.name_scope(\"predictions\"):\n",
    "            probs = tf.nn.softmax(self.logits)\n",
    "            self.predictions = tf.argmax(probs, 1)\n",
    "            correct_pred = tf.cast(tf.equal(self.predictions, tf.cast(self.target_data,tf.int64)),tf.float64)\n",
    "            self.accuracy = tf.reduce_mean(correct_pred)\n",
    "            tf.summary.scalar(\"maccuracy\", self.accuracy)\n",
    "            \n"
   ]
  },
  {
   "cell_type": "code",
   "execution_count": 74,
   "metadata": {
    "collapsed": true
   },
   "outputs": [],
   "source": [
    "def variable_summaries(var):\n",
    "   \"\"\"Attach a lot of summaries to a Tensor (for TensorBoard visualization).\"\"\"\n",
    "   with tf.name_scope('summaries'):\n",
    "     mean = tf.reduce_mean(var)\n",
    "     tf.summary.scalar('mean', mean)\n",
    "     with tf.name_scope('stddev'):\n",
    "       stddev = tf.sqrt(tf.reduce_mean(tf.square(var - mean)))\n",
    "     tf.summary.scalar('stddev', stddev)\n",
    "     tf.summary.scalar('max', tf.reduce_max(var))\n",
    "     tf.summary.scalar('min', tf.reduce_min(var))\n",
    "     tf.summary.histogram('histogram', var)\n",
    "\n",
    "train_writer = tf.summary.FileWriter(logpath)\n",
    "test_writer = tf.summary.FileWriter(logpath)\n"
   ]
  },
  {
   "cell_type": "code",
   "execution_count": 75,
   "metadata": {
    "collapsed": true
   },
   "outputs": [],
   "source": [
    "if tf.gfile.Exists(logpath):\n",
    "   tf.gfile.DeleteRecursively(logpath) "
   ]
  },
  {
   "cell_type": "markdown",
   "metadata": {},
   "source": [
    "## Training the RNN"
   ]
  },
  {
   "cell_type": "code",
   "execution_count": 76,
   "metadata": {},
   "outputs": [
    {
     "name": "stdout",
     "output_type": "stream",
     "text": [
      "WARNING:tensorflow:<tensorflow.contrib.rnn.python.ops.core_rnn_cell_impl.BasicLSTMCell object at 0x7f86a08baf28>: Using a concatenated state is slower and will soon be deprecated.  Use state_is_tuple=True.\n",
      "WARNING:tensorflow:<tensorflow.contrib.rnn.python.ops.core_rnn_cell_impl.BasicLSTMCell object at 0x7f86a08bae48>: Using a concatenated state is slower and will soon be deprecated.  Use state_is_tuple=True.\n",
      "WARNING:tensorflow:<tensorflow.contrib.rnn.python.ops.rnn_cell.AttentionCellWrapper object at 0x7f86a08ba668>: Using a concatenated state is slower and will soon be deprecated.  Use state_is_tuple=True.\n",
      "WARNING:tensorflow:From <ipython-input-76-b82cfa8620ab>:13: initialize_all_variables (from tensorflow.python.ops.variables) is deprecated and will be removed after 2017-03-02.\n",
      "Instructions for updating:\n",
      "Use `tf.global_variables_initializer` instead.\n",
      "step - 0 loss - 7776.2886962890625 acc - 0.16\n",
      "step - 1 loss - 7627.6904373168945 acc - 0.22\n",
      "step - 2 loss - 7631.982322692871 acc - 0.2\n",
      "step - 3 loss - 7607.545478820801 acc - 0.18\n",
      "step - 4 loss - 7590.102462768555 acc - 0.14\n",
      "step - 5 loss - 7487.799835205078 acc - 0.18\n",
      "step - 6 loss - 7460.214218139648 acc - 0.2\n",
      "step - 7 loss - 7389.6628494262695 acc - 0.2\n",
      "step - 8 loss - 7374.651885986328 acc - 0.16\n",
      "step - 9 loss - 7291.082458496094 acc - 0.2\n",
      "step - 10 loss - 7264.15608215332 acc - 0.24\n",
      "step - 11 loss - 7266.151580810547 acc - 0.24\n",
      "step - 12 loss - 7230.570152282715 acc - 0.2\n",
      "step - 13 loss - 7181.594749450684 acc - 0.24\n",
      "step - 14 loss - 7107.202896118164 acc - 0.22\n",
      "step - 15 loss - 7135.000396728516 acc - 0.2\n",
      "step - 16 loss - 7039.515487670898 acc - 0.2\n",
      "step - 17 loss - 7101.137413024902 acc - 0.28\n",
      "step - 18 loss - 7046.2463455200195 acc - 0.28\n",
      "step - 19 loss - 7044.586639404297 acc - 0.26\n",
      "Test: step - 0 acc - 0.08\n",
      "Test: step - 1 acc - 0.1\n",
      "Test: step - 2 acc - 0.3\n",
      "Test: step - 3 acc - 0.22\n",
      "Test: step - 4 acc - 0.1\n",
      "Test: step - 5 acc - 0.06\n",
      "Test: step - 6 acc - 0.14\n",
      "Test: step - 7 acc - 0.22\n",
      "Test: step - 8 acc - 0.02\n",
      "Test: step - 9 acc - 0.1\n",
      "Test: step - 10 acc - 0.08\n",
      "Test: step - 11 acc - 0.06\n",
      "Run the command line:\n",
      "\n",
      "--> tensorboard --logdir=/tmp/rnn_logs \n",
      "\n",
      "Then open http://0.0.0.0:6006/ into your web browser\n"
     ]
    }
   ],
   "source": [
    "# Construct model and encapsulating all ops into scopes, making\n",
    "# Tensorboard's Graph visualization more convenient\n",
    "with tf.Graph().as_default():\n",
    "    model = RNNModel()\n",
    "    input_ = train[0]\n",
    "    target = train[1]\n",
    "# XLA\n",
    "    config = tf.ConfigProto()\n",
    "    jit_level = tf.OptimizerOptions.ON_1\n",
    "    config.graph_options.optimizer_options.global_jit_level = jit_level\n",
    "\n",
    "    with tf.Session(config=config) as sess:\n",
    "        init = tf.initialize_all_variables()\n",
    "        sess.run([init])\n",
    "        # op to write logs to Tensorboard\n",
    "        summary_writer = tf.summary.FileWriter(logpath, graph=tf.get_default_graph())\n",
    "        loss = 2000\n",
    "        \n",
    "        for e in range(NUM_EPOCHS):\n",
    "            state = sess.run(model.zero_state)\n",
    "            epoch_loss =0\n",
    "            for batch in range(0,num_of_train_batches):\n",
    "                start = batch*batch_size\n",
    "                end = start + batch_size \n",
    "                feed = {\n",
    "                    model.input_data:input_[start:end],\n",
    "                    model.target_data:target[start:end],\n",
    "                    model.dropout_prob:0.5,\n",
    "                    model.start_state:state,\n",
    "                    }\n",
    "                (_,loss,acc,state) = sess.run(\n",
    "                    [\n",
    "                        model.train_op,\n",
    "                        model.loss,\n",
    "                        model.accuracy,\n",
    "                        model.end_state\n",
    "                    ]\n",
    "                    ,feed_dict=feed\n",
    "                )\n",
    "                epoch_loss+=loss\n",
    "                # Write logs at every iteration\n",
    "                tb_loss = tf.Summary()\n",
    "                tb_loss.value.add(\n",
    "                    tag='loss', simple_value=epoch_loss)\n",
    "                train_writer.add_summary(tb_loss, (e*num_of_train_batches+batch))\n",
    "                tb_acc = tf.Summary()\n",
    "                tb_acc.value.add(\n",
    "                    tag='accuracy', simple_value=acc)\n",
    "                train_writer.add_summary(tb_acc, (e*num_of_train_batches+batch))\n",
    "                train_writer.add_summary(model.summaries, (e*num_of_train_batches+batch))\n",
    "                train_writer.flush()\n",
    "                \n",
    "            print('step - {0} loss - {1} acc - {2}'.format((e),epoch_loss,acc))\n",
    "            # Write logs at every iteration\n",
    "            tb_loss = tf.Summary()\n",
    "            tb_loss.value.add(\n",
    "                tag='ep-loss', simple_value=epoch_loss)\n",
    "            train_writer.add_summary(tb_loss, (e*num_of_train_batches+batch))\n",
    "            tb_acc = tf.Summary()\n",
    "            tb_acc.value.add(\n",
    "                tag='ep-accuracy', simple_value=acc)\n",
    "            train_writer.add_summary(tb_acc, (e*num_of_train_batches+batch))\n",
    "            train_writer.flush()\n",
    "#            print('step - {:4d} loss - {:.9f} acc - {:.9f}'.format((e),epoch_loss,acc))\n",
    "        final_preds =np.array([])\n",
    "        for batch in range(0,num_of_test_batches):\n",
    "            start = batch*batch_size\n",
    "            end = start + batch_size \n",
    "            feed = {\n",
    "                model.input_data:val[0][start:end],\n",
    "                model.target_data:val[1][start:end],\n",
    "                model.dropout_prob:1,\n",
    "                model.start_state:state\n",
    "                }\n",
    "            (acc,preds,state) = sess.run(\n",
    "                [\n",
    "                    model.accuracy,\n",
    "                    model.predictions,\n",
    "                    model.end_state\n",
    "                ]\n",
    "                ,feed_dict=feed\n",
    "            )\n",
    "            print('Test: step - {} acc - {}'.format(batch,acc))\n",
    "#            print(acc)\n",
    "            assert len(preds) == batch_size\n",
    "            final_preds = np.concatenate((final_preds,preds),axis=0)\n",
    "#           summary = tf.summary.merge_all()\n",
    "            tb_acc = tf.Summary()\n",
    "            tb_acc.value.add(\n",
    "                tag='test_accuracy', simple_value=acc)\n",
    "            test_writer.add_summary(tb_acc, batch)\n",
    "            test_writer.flush()\n",
    "        \n",
    "        print (\"Run the command line:\\n\")\n",
    "        print(\"--> tensorboard --logdir=/tmp/rnn_logs \")\n",
    "        print(\"\\nThen open http://0.0.0.0:6006/ into your web browser\")"
   ]
  },
  {
   "cell_type": "markdown",
   "metadata": {},
   "source": [
    "## RNN Results"
   ]
  },
  {
   "cell_type": "code",
   "execution_count": 77,
   "metadata": {
    "collapsed": true,
    "scrolled": false
   },
   "outputs": [],
   "source": [
    "Result['rnn_pred'] = final_preds\n",
    "Result['mod_rnn_prod'] = list(map(lambda x: -1 if x <5 else 0 if x==5 else 1,final_preds))\n",
    "Result['rnn_ret'] = Result.mod_rnn_prod*Result['return']"
   ]
  },
  {
   "cell_type": "code",
   "execution_count": 78,
   "metadata": {
    "scrolled": false
   },
   "outputs": [
    {
     "name": "stdout",
     "output_type": "stream",
     "text": [
      "[[13  8  7  2  7  2  2  2  0  1  8]\n",
      " [ 3  5  5  2 18  4  1  5  2  3  2]\n",
      " [ 2  7 10  6 25  2  1  2  1  4  0]\n",
      " [ 4  3  8  7 28  4  1  0  0  3  4]\n",
      " [ 0  4  4  7 20  6  4  2  0  3  0]\n",
      " [ 2  2  6  1 29  2  1  1  0  4  3]\n",
      " [ 0  6  6 10 26  6  2  1  0  1  2]\n",
      " [ 2  2  5  2 27  6  2  2  1  2  2]\n",
      " [ 1  6 10  4 21  3  6  0  0  3  0]\n",
      " [ 2  2 10  9 20  4  2  1  0  4  2]\n",
      " [ 8  5  5  3  9  4  2  1  1  5  9]]\n",
      "             precision    recall  f1-score   support\n",
      "\n",
      "         -1       0.35      0.76      0.47       203\n",
      "          0       0.37      0.08      0.13       200\n",
      "          1       0.38      0.21      0.27       197\n",
      "\n",
      "avg / total       0.37      0.35      0.29       600\n",
      "\n",
      "[[154  11  38]\n",
      " [153  16  31]\n",
      " [139  16  42]]\n"
     ]
    }
   ],
   "source": [
    "print(confusion_matrix(Result['multi_class'],Result['rnn_pred']))\n",
    "print(classification_report(Result['class'],Result['mod_rnn_prod']))\n",
    "print(confusion_matrix(Result['class'],Result['mod_rnn_prod']))"
   ]
  },
  {
   "cell_type": "code",
   "execution_count": 79,
   "metadata": {},
   "outputs": [
    {
     "data": {
      "text/plain": [
       "<matplotlib.axes._subplots.AxesSubplot at 0x7f86a1938128>"
      ]
     },
     "execution_count": 79,
     "metadata": {},
     "output_type": "execute_result"
    },
    {
     "data": {
      "image/png": "[encoded data removed]",
      "text/plain": [
       "<matplotlib.figure.Figure at 0x7f86a19224a8>"
      ]
     },
     "metadata": {},
     "output_type": "display_data"
    }
   ],
   "source": [
    "cm = pd.DataFrame(confusion_matrix(Result['multi_class'],Result['rnn_pred']))\n",
    "#sns.heatmap(cm.div(cm.sum(1)))\n",
    "Result[Result.multi_class==6]['rnn_pred'].hist()"
   ]
  },
  {
   "cell_type": "code",
   "execution_count": 80,
   "metadata": {},
   "outputs": [
    {
     "data": {
      "text/plain": [
       "<matplotlib.axes._subplots.AxesSubplot at 0x7f8691dfe2e8>"
      ]
     },
     "execution_count": 80,
     "metadata": {},
     "output_type": "execute_result"
    },
    {
     "data": {
      "image/png": "[encoded data removed]",
      "text/plain": [
       "<matplotlib.figure.Figure at 0x7f86a1e07e80>"
      ]
     },
     "metadata": {},
     "output_type": "display_data"
    }
   ],
   "source": [
    "Res = (Result[-test_size:][['return','nn_ret','rnn_ret']]).cumsum()\n",
    "Res[0] =0\n",
    "Res.plot(figsize=(20,10))"
   ]
  },
  {
   "cell_type": "code",
   "execution_count": 81,
   "metadata": {},
   "outputs": [
    {
     "data": {
      "text/plain": [
       "<matplotlib.axes._subplots.AxesSubplot at 0x7f86945dd898>"
      ]
     },
     "execution_count": 81,
     "metadata": {},
     "output_type": "execute_result"
    },
    {
     "data": {
      "image/png": "[encoded data removed]",
      "text/plain": [
       "<matplotlib.figure.Figure at 0x7f86a1c6c358>"
      ]
     },
     "metadata": {},
     "output_type": "display_data"
    }
   ],
   "source": [
    "Res.columns =['Market Baseline','Simple Neural Newtwork','Attention RNN','Do Nothing(0)']\n",
    "Res.plot(figsize=(20,10),title=\"Performance of MarketVectors algo over 27 months compared with baselines\")"
   ]
  },
  {
   "cell_type": "code",
   "execution_count": 82,
   "metadata": {},
   "outputs": [
    {
     "data": {
      "text/plain": [
       "array([[<matplotlib.axes._subplots.AxesSubplot object at 0x7f86945372b0>,\n",
       "        <matplotlib.axes._subplots.AxesSubplot object at 0x7f86944af588>],\n",
       "       [<matplotlib.axes._subplots.AxesSubplot object at 0x7f86944ca518>,\n",
       "        <matplotlib.axes._subplots.AxesSubplot object at 0x7f86921b1c18>]], dtype=object)"
      ]
     },
     "execution_count": 82,
     "metadata": {},
     "output_type": "execute_result"
    },
    {
     "data": {
      "image/png": "[encoded data removed]",
      "text/plain": [
       "<matplotlib.figure.Figure at 0x7f86a1922160>"
      ]
     },
     "metadata": {},
     "output_type": "display_data"
    }
   ],
   "source": [
    "Labeled.hist(column='return',by='class')"
   ]
  },
  {
   "cell_type": "code",
   "execution_count": 83,
   "metadata": {},
   "outputs": [
    {
     "data": {
      "text/plain": [
       "array([ 1, -1,  0])"
      ]
     },
     "execution_count": 83,
     "metadata": {},
     "output_type": "execute_result"
    }
   ],
   "source": [
    "Result['class'].unique()"
   ]
  },
  {
   "cell_type": "code",
   "execution_count": 84,
   "metadata": {},
   "outputs": [
    {
     "data": {
      "image/png": "[encoded data removed]",
      "text/plain": [
       "<matplotlib.figure.Figure at 0x7f869204ef28>"
      ]
     },
     "metadata": {},
     "output_type": "display_data"
    }
   ],
   "source": [
    "import seaborn as sns\n",
    "g = sns.FacetGrid(Result, row=\"class\", col=\"rnn_pred\", margin_titles=True)\n",
    "g.map(sns.distplot, \"return\",);"
   ]
  },
  {
   "cell_type": "code",
   "execution_count": 85,
   "metadata": {},
   "outputs": [
    {
     "data": {
      "text/plain": [
       "array([[<matplotlib.axes._subplots.AxesSubplot object at 0x7f8691e5e710>,\n",
       "        <matplotlib.axes._subplots.AxesSubplot object at 0x7f86a3580fd0>,\n",
       "        <matplotlib.axes._subplots.AxesSubplot object at 0x7f86a3d0ae48>,\n",
       "        <matplotlib.axes._subplots.AxesSubplot object at 0x7f86a3dba1d0>,\n",
       "        <matplotlib.axes._subplots.AxesSubplot object at 0x7f86a337dba8>,\n",
       "        <matplotlib.axes._subplots.AxesSubplot object at 0x7f86a337d438>],\n",
       "       [<matplotlib.axes._subplots.AxesSubplot object at 0x7f86a3fa7f98>,\n",
       "        <matplotlib.axes._subplots.AxesSubplot object at 0x7f86a366b978>,\n",
       "        <matplotlib.axes._subplots.AxesSubplot object at 0x7f86a326ecf8>,\n",
       "        <matplotlib.axes._subplots.AxesSubplot object at 0x7f86a4172630>,\n",
       "        <matplotlib.axes._subplots.AxesSubplot object at 0x7f86a41f8550>,\n",
       "        <matplotlib.axes._subplots.AxesSubplot object at 0x7f86a41c4cc0>],\n",
       "       [<matplotlib.axes._subplots.AxesSubplot object at 0x7f86a3da80f0>,\n",
       "        <matplotlib.axes._subplots.AxesSubplot object at 0x7f86a3b3cc18>,\n",
       "        <matplotlib.axes._subplots.AxesSubplot object at 0x7f86a430a748>,\n",
       "        <matplotlib.axes._subplots.AxesSubplot object at 0x7f86a433b470>,\n",
       "        <matplotlib.axes._subplots.AxesSubplot object at 0x7f86a3b179b0>,\n",
       "        <matplotlib.axes._subplots.AxesSubplot object at 0x7f86a37fc2b0>],\n",
       "       [<matplotlib.axes._subplots.AxesSubplot object at 0x7f86a44e9240>,\n",
       "        <matplotlib.axes._subplots.AxesSubplot object at 0x7f86a3443400>,\n",
       "        <matplotlib.axes._subplots.AxesSubplot object at 0x7f86a37468d0>,\n",
       "        <matplotlib.axes._subplots.AxesSubplot object at 0x7f86a3875d30>,\n",
       "        <matplotlib.axes._subplots.AxesSubplot object at 0x7f874ba7f780>,\n",
       "        <matplotlib.axes._subplots.AxesSubplot object at 0x7f86a3c98710>],\n",
       "       [<matplotlib.axes._subplots.AxesSubplot object at 0x7f874bb15da0>,\n",
       "        <matplotlib.axes._subplots.AxesSubplot object at 0x7f86a3150080>,\n",
       "        <matplotlib.axes._subplots.AxesSubplot object at 0x7f86a3488ba8>,\n",
       "        <matplotlib.axes._subplots.AxesSubplot object at 0x7f874bb9d320>,\n",
       "        <matplotlib.axes._subplots.AxesSubplot object at 0x7f8763bea748>,\n",
       "        <matplotlib.axes._subplots.AxesSubplot object at 0x7f8769e507b8>],\n",
       "       [<matplotlib.axes._subplots.AxesSubplot object at 0x7f86a41a3e10>,\n",
       "        <matplotlib.axes._subplots.AxesSubplot object at 0x7f86a424d3c8>,\n",
       "        <matplotlib.axes._subplots.AxesSubplot object at 0x7f86a4133780>,\n",
       "        <matplotlib.axes._subplots.AxesSubplot object at 0x7f86a335e390>,\n",
       "        <matplotlib.axes._subplots.AxesSubplot object at 0x7f86a3def128>,\n",
       "        <matplotlib.axes._subplots.AxesSubplot object at 0x7f86a45329e8>]], dtype=object)"
      ]
     },
     "execution_count": 85,
     "metadata": {},
     "output_type": "execute_result"
    },
    {
     "data": {
      "image/png": "[encoded data removed]",
      "text/plain": [
       "<matplotlib.figure.Figure at 0x7f86a35b4e10>"
      ]
     },
     "metadata": {},
     "output_type": "display_data"
    }
   ],
   "source": [
    "Result.hist(by=['class','nn_pred'],column='return',sharex=True)"
   ]
  },
  {
   "cell_type": "code",
   "execution_count": null,
   "metadata": {},
   "outputs": [],
   "source": [
    "Result.index.dayofweek"
   ]
  },
  {
   "cell_type": "code",
   "execution_count": null,
   "metadata": {
    "collapsed": true
   },
   "outputs": [],
   "source": []
  },
  {
   "cell_type": "code",
   "execution_count": null,
   "metadata": {
    "collapsed": true
   },
   "outputs": [],
   "source": []
  },
  {
   "cell_type": "code",
   "execution_count": null,
   "metadata": {
    "collapsed": true
   },
   "outputs": [],
   "source": []
  }
 ],
 "metadata": {
  "kernelspec": {
   "display_name": "Python 3",
   "language": "python",
   "name": "python3"
  },
  "language_info": {
   "codemirror_mode": {
    "name": "ipython",
    "version": 3
   },
   "file_extension": ".py",
   "mimetype": "text/x-python",
   "name": "python",
   "nbconvert_exporter": "python",
   "pygments_lexer": "ipython3",
   "version": "3.6.1"
  }
 },
 "nbformat": 4,
 "nbformat_minor": 1
}
